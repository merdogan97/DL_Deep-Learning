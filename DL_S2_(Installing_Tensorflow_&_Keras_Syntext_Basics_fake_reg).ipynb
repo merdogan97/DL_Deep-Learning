{
  "cells": [
    {
      "cell_type": "markdown",
      "metadata": {
        "id": "view-in-github",
        "colab_type": "text"
      },
      "source": [
        "<a href=\"https://colab.research.google.com/github/merdogan97/DL_Deep-Learning/blob/main/DL_S2_(Installing_Tensorflow_%26_Keras_Syntext_Basics_fake_reg).ipynb\" target=\"_parent\"><img src=\"https://colab.research.google.com/assets/colab-badge.svg\" alt=\"Open In Colab\"/></a>"
      ]
    },
    {
      "cell_type": "markdown",
      "metadata": {
        "id": "f1F7S5ll-4-n"
      },
      "source": [
        "___\n",
        "\n",
        "<p style=\"text-align: center;\"><img src=\"https://docs.google.com/uc?id=1lY0Uj5R04yMY3-ZppPWxqCr5pvBLYPnV\" class=\"img-fluid\" alt=\"CLRSWY\"></p>\n",
        "\n",
        "___"
      ]
    },
    {
      "cell_type": "markdown",
      "metadata": {
        "id": "9pavmEuv-4-8"
      },
      "source": [
        "<h1 style=\"text-align: center;\">Deep Learning<br><br>Session - 2<br><br>Installing Tensorflow & Keras Syntax Basics<br><br>Fake Reg<br><h1>"
      ]
    },
    {
      "cell_type": "markdown",
      "metadata": {
        "id": "7GAFHVA0-4-9"
      },
      "source": [
        "# Installing Tensorflow"
      ]
    },
    {
      "cell_type": "code",
      "execution_count": 1,
      "metadata": {
        "colab": {
          "base_uri": "https://localhost:8080/"
        },
        "id": "NYxuoZ34-4--",
        "outputId": "ada10343-e20d-4c65-cd10-924014e414d9"
      },
      "outputs": [
        {
          "output_type": "stream",
          "name": "stdout",
          "text": [
            "Python 3.7.13\n"
          ]
        }
      ],
      "source": [
        "!python --version"
      ]
    },
    {
      "cell_type": "code",
      "execution_count": 2,
      "metadata": {
        "colab": {
          "base_uri": "https://localhost:8080/"
        },
        "id": "qes5NyaY-4_C",
        "outputId": "72f5621d-b1fa-4572-e01e-560156430b50"
      },
      "outputs": [
        {
          "output_type": "stream",
          "name": "stdout",
          "text": [
            "Looking in indexes: https://pypi.org/simple, https://us-python.pkg.dev/colab-wheels/public/simple/\n",
            "Requirement already satisfied: tensorflow in /usr/local/lib/python3.7/dist-packages (2.8.2+zzzcolab20220527125636)\n",
            "Requirement already satisfied: termcolor>=1.1.0 in /usr/local/lib/python3.7/dist-packages (from tensorflow) (1.1.0)\n",
            "Requirement already satisfied: h5py>=2.9.0 in /usr/local/lib/python3.7/dist-packages (from tensorflow) (3.1.0)\n",
            "Requirement already satisfied: google-pasta>=0.1.1 in /usr/local/lib/python3.7/dist-packages (from tensorflow) (0.2.0)\n",
            "Requirement already satisfied: tensorflow-estimator<2.9,>=2.8 in /usr/local/lib/python3.7/dist-packages (from tensorflow) (2.8.0)\n",
            "Requirement already satisfied: keras-preprocessing>=1.1.1 in /usr/local/lib/python3.7/dist-packages (from tensorflow) (1.1.2)\n",
            "Requirement already satisfied: absl-py>=0.4.0 in /usr/local/lib/python3.7/dist-packages (from tensorflow) (1.1.0)\n",
            "Requirement already satisfied: tensorboard<2.9,>=2.8 in /usr/local/lib/python3.7/dist-packages (from tensorflow) (2.8.0)\n",
            "Requirement already satisfied: astunparse>=1.6.0 in /usr/local/lib/python3.7/dist-packages (from tensorflow) (1.6.3)\n",
            "Requirement already satisfied: setuptools in /usr/local/lib/python3.7/dist-packages (from tensorflow) (57.4.0)\n",
            "Requirement already satisfied: six>=1.12.0 in /usr/local/lib/python3.7/dist-packages (from tensorflow) (1.15.0)\n",
            "Requirement already satisfied: libclang>=9.0.1 in /usr/local/lib/python3.7/dist-packages (from tensorflow) (14.0.1)\n",
            "Requirement already satisfied: protobuf<3.20,>=3.9.2 in /usr/local/lib/python3.7/dist-packages (from tensorflow) (3.17.3)\n",
            "Requirement already satisfied: wrapt>=1.11.0 in /usr/local/lib/python3.7/dist-packages (from tensorflow) (1.14.1)\n",
            "Requirement already satisfied: keras<2.9,>=2.8.0rc0 in /usr/local/lib/python3.7/dist-packages (from tensorflow) (2.8.0)\n",
            "Requirement already satisfied: typing-extensions>=3.6.6 in /usr/local/lib/python3.7/dist-packages (from tensorflow) (4.1.1)\n",
            "Requirement already satisfied: tensorflow-io-gcs-filesystem>=0.23.1 in /usr/local/lib/python3.7/dist-packages (from tensorflow) (0.26.0)\n",
            "Requirement already satisfied: numpy>=1.20 in /usr/local/lib/python3.7/dist-packages (from tensorflow) (1.21.6)\n",
            "Requirement already satisfied: gast>=0.2.1 in /usr/local/lib/python3.7/dist-packages (from tensorflow) (0.5.3)\n",
            "Requirement already satisfied: flatbuffers>=1.12 in /usr/local/lib/python3.7/dist-packages (from tensorflow) (2.0)\n",
            "Requirement already satisfied: grpcio<2.0,>=1.24.3 in /usr/local/lib/python3.7/dist-packages (from tensorflow) (1.46.3)\n",
            "Requirement already satisfied: opt-einsum>=2.3.2 in /usr/local/lib/python3.7/dist-packages (from tensorflow) (3.3.0)\n",
            "Requirement already satisfied: wheel<1.0,>=0.23.0 in /usr/local/lib/python3.7/dist-packages (from astunparse>=1.6.0->tensorflow) (0.37.1)\n",
            "Requirement already satisfied: cached-property in /usr/local/lib/python3.7/dist-packages (from h5py>=2.9.0->tensorflow) (1.5.2)\n",
            "Requirement already satisfied: tensorboard-data-server<0.7.0,>=0.6.0 in /usr/local/lib/python3.7/dist-packages (from tensorboard<2.9,>=2.8->tensorflow) (0.6.1)\n",
            "Requirement already satisfied: tensorboard-plugin-wit>=1.6.0 in /usr/local/lib/python3.7/dist-packages (from tensorboard<2.9,>=2.8->tensorflow) (1.8.1)\n",
            "Requirement already satisfied: requests<3,>=2.21.0 in /usr/local/lib/python3.7/dist-packages (from tensorboard<2.9,>=2.8->tensorflow) (2.23.0)\n",
            "Requirement already satisfied: werkzeug>=0.11.15 in /usr/local/lib/python3.7/dist-packages (from tensorboard<2.9,>=2.8->tensorflow) (1.0.1)\n",
            "Requirement already satisfied: markdown>=2.6.8 in /usr/local/lib/python3.7/dist-packages (from tensorboard<2.9,>=2.8->tensorflow) (3.3.7)\n",
            "Requirement already satisfied: google-auth<3,>=1.6.3 in /usr/local/lib/python3.7/dist-packages (from tensorboard<2.9,>=2.8->tensorflow) (1.35.0)\n",
            "Requirement already satisfied: google-auth-oauthlib<0.5,>=0.4.1 in /usr/local/lib/python3.7/dist-packages (from tensorboard<2.9,>=2.8->tensorflow) (0.4.6)\n",
            "Requirement already satisfied: rsa<5,>=3.1.4 in /usr/local/lib/python3.7/dist-packages (from google-auth<3,>=1.6.3->tensorboard<2.9,>=2.8->tensorflow) (4.8)\n",
            "Requirement already satisfied: cachetools<5.0,>=2.0.0 in /usr/local/lib/python3.7/dist-packages (from google-auth<3,>=1.6.3->tensorboard<2.9,>=2.8->tensorflow) (4.2.4)\n",
            "Requirement already satisfied: pyasn1-modules>=0.2.1 in /usr/local/lib/python3.7/dist-packages (from google-auth<3,>=1.6.3->tensorboard<2.9,>=2.8->tensorflow) (0.2.8)\n",
            "Requirement already satisfied: requests-oauthlib>=0.7.0 in /usr/local/lib/python3.7/dist-packages (from google-auth-oauthlib<0.5,>=0.4.1->tensorboard<2.9,>=2.8->tensorflow) (1.3.1)\n",
            "Requirement already satisfied: importlib-metadata>=4.4 in /usr/local/lib/python3.7/dist-packages (from markdown>=2.6.8->tensorboard<2.9,>=2.8->tensorflow) (4.11.4)\n",
            "Requirement already satisfied: zipp>=0.5 in /usr/local/lib/python3.7/dist-packages (from importlib-metadata>=4.4->markdown>=2.6.8->tensorboard<2.9,>=2.8->tensorflow) (3.8.0)\n",
            "Requirement already satisfied: pyasn1<0.5.0,>=0.4.6 in /usr/local/lib/python3.7/dist-packages (from pyasn1-modules>=0.2.1->google-auth<3,>=1.6.3->tensorboard<2.9,>=2.8->tensorflow) (0.4.8)\n",
            "Requirement already satisfied: idna<3,>=2.5 in /usr/local/lib/python3.7/dist-packages (from requests<3,>=2.21.0->tensorboard<2.9,>=2.8->tensorflow) (2.10)\n",
            "Requirement already satisfied: certifi>=2017.4.17 in /usr/local/lib/python3.7/dist-packages (from requests<3,>=2.21.0->tensorboard<2.9,>=2.8->tensorflow) (2022.6.15)\n",
            "Requirement already satisfied: urllib3!=1.25.0,!=1.25.1,<1.26,>=1.21.1 in /usr/local/lib/python3.7/dist-packages (from requests<3,>=2.21.0->tensorboard<2.9,>=2.8->tensorflow) (1.24.3)\n",
            "Requirement already satisfied: chardet<4,>=3.0.2 in /usr/local/lib/python3.7/dist-packages (from requests<3,>=2.21.0->tensorboard<2.9,>=2.8->tensorflow) (3.0.4)\n",
            "Requirement already satisfied: oauthlib>=3.0.0 in /usr/local/lib/python3.7/dist-packages (from requests-oauthlib>=0.7.0->google-auth-oauthlib<0.5,>=0.4.1->tensorboard<2.9,>=2.8->tensorflow) (3.2.0)\n"
          ]
        }
      ],
      "source": [
        "!pip install tensorflow"
      ]
    },
    {
      "cell_type": "code",
      "execution_count": 3,
      "metadata": {
        "colab": {
          "base_uri": "https://localhost:8080/",
          "height": 36
        },
        "id": "Mp07_OEl-4_E",
        "outputId": "ca2f1522-2df2-42bd-af10-71f988bb1e7f"
      },
      "outputs": [
        {
          "output_type": "execute_result",
          "data": {
            "text/plain": [
              "'2.8.2'"
            ],
            "application/vnd.google.colaboratory.intrinsic+json": {
              "type": "string"
            }
          },
          "metadata": {},
          "execution_count": 3
        }
      ],
      "source": [
        "import tensorflow as tf\n",
        "tf.__version__"
      ]
    },
    {
      "cell_type": "markdown",
      "metadata": {
        "id": "iEjCsI11-4_F"
      },
      "source": [
        "# Keras Syntax Basics"
      ]
    },
    {
      "cell_type": "code",
      "execution_count": 4,
      "metadata": {
        "id": "BHNOb8k1-4_G"
      },
      "outputs": [],
      "source": [
        "import numpy as np\n",
        "import pandas as pd\n",
        "import matplotlib.pyplot as plt\n",
        "import seaborn as sns\n",
        "\n",
        "import warnings\n",
        "warnings.filterwarnings(\"ignore\")\n",
        "warnings.warn(\"this will not show\")\n",
        "\n",
        "plt.rcParams[\"figure.figsize\"] = (10,6)\n",
        "\n",
        "sns.set_style(\"whitegrid\")\n",
        "pd.set_option('display.float_format', lambda x: '%.3f' % x)\n",
        "\n",
        "# Set it None to display all rows in the dataframe\n",
        "# pd.set_option('display.max_rows', None)\n",
        "\n",
        "# Set it to None to display all columns in the dataframe\n",
        "pd.set_option('display.max_columns', None)"
      ]
    },
    {
      "cell_type": "code",
      "execution_count": 5,
      "metadata": {
        "id": "E5m13s0O-4_I"
      },
      "outputs": [],
      "source": [
        "#from google.colab import drive\n",
        "#drive.mount('/content/drive')"
      ]
    },
    {
      "cell_type": "code",
      "execution_count": 6,
      "metadata": {
        "id": "jrNxlVbZ-4_J"
      },
      "outputs": [],
      "source": [
        "#df = pd.read_csv(\"drive/MyDrive/Colab_Files/data/fake_reg.csv\")"
      ]
    },
    {
      "cell_type": "code",
      "execution_count": 9,
      "metadata": {
        "id": "A6rgIl_Z-4_K"
      },
      "outputs": [],
      "source": [
        "df = pd.read_csv(\"/content/fake_reg.csv\")"
      ]
    },
    {
      "cell_type": "markdown",
      "metadata": {
        "id": "JBn8CdXj-4_L"
      },
      "source": [
        "## Exploratory Data Analysis and Visualization"
      ]
    },
    {
      "cell_type": "code",
      "execution_count": 10,
      "metadata": {
        "colab": {
          "base_uri": "https://localhost:8080/",
          "height": 206
        },
        "id": "q9gcC4bC-4_L",
        "outputId": "fac3926d-54ba-4c75-bf37-dc083ca4bc32"
      },
      "outputs": [
        {
          "output_type": "execute_result",
          "data": {
            "text/plain": [
              "    price  feature1  feature2\n",
              "0 461.528   999.788   999.766\n",
              "1 548.130   998.862  1001.042\n",
              "2 410.297  1000.070   998.844\n",
              "3 540.382   999.952  1000.441\n",
              "4 546.025  1000.446  1000.339"
            ],
            "text/html": [
              "\n",
              "  <div id=\"df-d0f228e3-741a-4358-8c6d-ca4150c07a03\">\n",
              "    <div class=\"colab-df-container\">\n",
              "      <div>\n",
              "<style scoped>\n",
              "    .dataframe tbody tr th:only-of-type {\n",
              "        vertical-align: middle;\n",
              "    }\n",
              "\n",
              "    .dataframe tbody tr th {\n",
              "        vertical-align: top;\n",
              "    }\n",
              "\n",
              "    .dataframe thead th {\n",
              "        text-align: right;\n",
              "    }\n",
              "</style>\n",
              "<table border=\"1\" class=\"dataframe\">\n",
              "  <thead>\n",
              "    <tr style=\"text-align: right;\">\n",
              "      <th></th>\n",
              "      <th>price</th>\n",
              "      <th>feature1</th>\n",
              "      <th>feature2</th>\n",
              "    </tr>\n",
              "  </thead>\n",
              "  <tbody>\n",
              "    <tr>\n",
              "      <th>0</th>\n",
              "      <td>461.528</td>\n",
              "      <td>999.788</td>\n",
              "      <td>999.766</td>\n",
              "    </tr>\n",
              "    <tr>\n",
              "      <th>1</th>\n",
              "      <td>548.130</td>\n",
              "      <td>998.862</td>\n",
              "      <td>1001.042</td>\n",
              "    </tr>\n",
              "    <tr>\n",
              "      <th>2</th>\n",
              "      <td>410.297</td>\n",
              "      <td>1000.070</td>\n",
              "      <td>998.844</td>\n",
              "    </tr>\n",
              "    <tr>\n",
              "      <th>3</th>\n",
              "      <td>540.382</td>\n",
              "      <td>999.952</td>\n",
              "      <td>1000.441</td>\n",
              "    </tr>\n",
              "    <tr>\n",
              "      <th>4</th>\n",
              "      <td>546.025</td>\n",
              "      <td>1000.446</td>\n",
              "      <td>1000.339</td>\n",
              "    </tr>\n",
              "  </tbody>\n",
              "</table>\n",
              "</div>\n",
              "      <button class=\"colab-df-convert\" onclick=\"convertToInteractive('df-d0f228e3-741a-4358-8c6d-ca4150c07a03')\"\n",
              "              title=\"Convert this dataframe to an interactive table.\"\n",
              "              style=\"display:none;\">\n",
              "        \n",
              "  <svg xmlns=\"http://www.w3.org/2000/svg\" height=\"24px\"viewBox=\"0 0 24 24\"\n",
              "       width=\"24px\">\n",
              "    <path d=\"M0 0h24v24H0V0z\" fill=\"none\"/>\n",
              "    <path d=\"M18.56 5.44l.94 2.06.94-2.06 2.06-.94-2.06-.94-.94-2.06-.94 2.06-2.06.94zm-11 1L8.5 8.5l.94-2.06 2.06-.94-2.06-.94L8.5 2.5l-.94 2.06-2.06.94zm10 10l.94 2.06.94-2.06 2.06-.94-2.06-.94-.94-2.06-.94 2.06-2.06.94z\"/><path d=\"M17.41 7.96l-1.37-1.37c-.4-.4-.92-.59-1.43-.59-.52 0-1.04.2-1.43.59L10.3 9.45l-7.72 7.72c-.78.78-.78 2.05 0 2.83L4 21.41c.39.39.9.59 1.41.59.51 0 1.02-.2 1.41-.59l7.78-7.78 2.81-2.81c.8-.78.8-2.07 0-2.86zM5.41 20L4 18.59l7.72-7.72 1.47 1.35L5.41 20z\"/>\n",
              "  </svg>\n",
              "      </button>\n",
              "      \n",
              "  <style>\n",
              "    .colab-df-container {\n",
              "      display:flex;\n",
              "      flex-wrap:wrap;\n",
              "      gap: 12px;\n",
              "    }\n",
              "\n",
              "    .colab-df-convert {\n",
              "      background-color: #E8F0FE;\n",
              "      border: none;\n",
              "      border-radius: 50%;\n",
              "      cursor: pointer;\n",
              "      display: none;\n",
              "      fill: #1967D2;\n",
              "      height: 32px;\n",
              "      padding: 0 0 0 0;\n",
              "      width: 32px;\n",
              "    }\n",
              "\n",
              "    .colab-df-convert:hover {\n",
              "      background-color: #E2EBFA;\n",
              "      box-shadow: 0px 1px 2px rgba(60, 64, 67, 0.3), 0px 1px 3px 1px rgba(60, 64, 67, 0.15);\n",
              "      fill: #174EA6;\n",
              "    }\n",
              "\n",
              "    [theme=dark] .colab-df-convert {\n",
              "      background-color: #3B4455;\n",
              "      fill: #D2E3FC;\n",
              "    }\n",
              "\n",
              "    [theme=dark] .colab-df-convert:hover {\n",
              "      background-color: #434B5C;\n",
              "      box-shadow: 0px 1px 3px 1px rgba(0, 0, 0, 0.15);\n",
              "      filter: drop-shadow(0px 1px 2px rgba(0, 0, 0, 0.3));\n",
              "      fill: #FFFFFF;\n",
              "    }\n",
              "  </style>\n",
              "\n",
              "      <script>\n",
              "        const buttonEl =\n",
              "          document.querySelector('#df-d0f228e3-741a-4358-8c6d-ca4150c07a03 button.colab-df-convert');\n",
              "        buttonEl.style.display =\n",
              "          google.colab.kernel.accessAllowed ? 'block' : 'none';\n",
              "\n",
              "        async function convertToInteractive(key) {\n",
              "          const element = document.querySelector('#df-d0f228e3-741a-4358-8c6d-ca4150c07a03');\n",
              "          const dataTable =\n",
              "            await google.colab.kernel.invokeFunction('convertToInteractive',\n",
              "                                                     [key], {});\n",
              "          if (!dataTable) return;\n",
              "\n",
              "          const docLinkHtml = 'Like what you see? Visit the ' +\n",
              "            '<a target=\"_blank\" href=https://colab.research.google.com/notebooks/data_table.ipynb>data table notebook</a>'\n",
              "            + ' to learn more about interactive tables.';\n",
              "          element.innerHTML = '';\n",
              "          dataTable['output_type'] = 'display_data';\n",
              "          await google.colab.output.renderOutput(dataTable, element);\n",
              "          const docLink = document.createElement('div');\n",
              "          docLink.innerHTML = docLinkHtml;\n",
              "          element.appendChild(docLink);\n",
              "        }\n",
              "      </script>\n",
              "    </div>\n",
              "  </div>\n",
              "  "
            ]
          },
          "metadata": {},
          "execution_count": 10
        }
      ],
      "source": [
        "df.head()"
      ]
    },
    {
      "cell_type": "code",
      "execution_count": 11,
      "metadata": {
        "colab": {
          "base_uri": "https://localhost:8080/"
        },
        "id": "DofgFYAn-4_M",
        "outputId": "467f861f-53d0-4cbd-f1c7-34baf23d0ad4"
      },
      "outputs": [
        {
          "output_type": "stream",
          "name": "stdout",
          "text": [
            "<class 'pandas.core.frame.DataFrame'>\n",
            "RangeIndex: 1000 entries, 0 to 999\n",
            "Data columns (total 3 columns):\n",
            " #   Column    Non-Null Count  Dtype  \n",
            "---  ------    --------------  -----  \n",
            " 0   price     1000 non-null   float64\n",
            " 1   feature1  1000 non-null   float64\n",
            " 2   feature2  1000 non-null   float64\n",
            "dtypes: float64(3)\n",
            "memory usage: 23.6 KB\n"
          ]
        }
      ],
      "source": [
        "df.info()"
      ]
    },
    {
      "cell_type": "code",
      "execution_count": 12,
      "metadata": {
        "colab": {
          "base_uri": "https://localhost:8080/",
          "height": 143
        },
        "id": "8j4IRtHJ-4_N",
        "outputId": "c1ed6341-a236-4fc5-ec6e-7be58a9e6c3c"
      },
      "outputs": [
        {
          "output_type": "execute_result",
          "data": {
            "text/plain": [
              "            count     mean    std     min     25%      50%      75%      max\n",
              "price    1000.000  498.673 93.785 223.347 433.026  502.382  564.922  774.408\n",
              "feature1 1000.000 1000.014  0.974 997.058 999.332 1000.010 1000.638 1003.208\n",
              "feature2 1000.000  999.980  0.948 996.996 999.316 1000.002 1000.645 1002.666"
            ],
            "text/html": [
              "\n",
              "  <div id=\"df-429eccec-b9dc-4b3a-97cd-d66bdce7b00a\">\n",
              "    <div class=\"colab-df-container\">\n",
              "      <div>\n",
              "<style scoped>\n",
              "    .dataframe tbody tr th:only-of-type {\n",
              "        vertical-align: middle;\n",
              "    }\n",
              "\n",
              "    .dataframe tbody tr th {\n",
              "        vertical-align: top;\n",
              "    }\n",
              "\n",
              "    .dataframe thead th {\n",
              "        text-align: right;\n",
              "    }\n",
              "</style>\n",
              "<table border=\"1\" class=\"dataframe\">\n",
              "  <thead>\n",
              "    <tr style=\"text-align: right;\">\n",
              "      <th></th>\n",
              "      <th>count</th>\n",
              "      <th>mean</th>\n",
              "      <th>std</th>\n",
              "      <th>min</th>\n",
              "      <th>25%</th>\n",
              "      <th>50%</th>\n",
              "      <th>75%</th>\n",
              "      <th>max</th>\n",
              "    </tr>\n",
              "  </thead>\n",
              "  <tbody>\n",
              "    <tr>\n",
              "      <th>price</th>\n",
              "      <td>1000.000</td>\n",
              "      <td>498.673</td>\n",
              "      <td>93.785</td>\n",
              "      <td>223.347</td>\n",
              "      <td>433.026</td>\n",
              "      <td>502.382</td>\n",
              "      <td>564.922</td>\n",
              "      <td>774.408</td>\n",
              "    </tr>\n",
              "    <tr>\n",
              "      <th>feature1</th>\n",
              "      <td>1000.000</td>\n",
              "      <td>1000.014</td>\n",
              "      <td>0.974</td>\n",
              "      <td>997.058</td>\n",
              "      <td>999.332</td>\n",
              "      <td>1000.010</td>\n",
              "      <td>1000.638</td>\n",
              "      <td>1003.208</td>\n",
              "    </tr>\n",
              "    <tr>\n",
              "      <th>feature2</th>\n",
              "      <td>1000.000</td>\n",
              "      <td>999.980</td>\n",
              "      <td>0.948</td>\n",
              "      <td>996.996</td>\n",
              "      <td>999.316</td>\n",
              "      <td>1000.002</td>\n",
              "      <td>1000.645</td>\n",
              "      <td>1002.666</td>\n",
              "    </tr>\n",
              "  </tbody>\n",
              "</table>\n",
              "</div>\n",
              "      <button class=\"colab-df-convert\" onclick=\"convertToInteractive('df-429eccec-b9dc-4b3a-97cd-d66bdce7b00a')\"\n",
              "              title=\"Convert this dataframe to an interactive table.\"\n",
              "              style=\"display:none;\">\n",
              "        \n",
              "  <svg xmlns=\"http://www.w3.org/2000/svg\" height=\"24px\"viewBox=\"0 0 24 24\"\n",
              "       width=\"24px\">\n",
              "    <path d=\"M0 0h24v24H0V0z\" fill=\"none\"/>\n",
              "    <path d=\"M18.56 5.44l.94 2.06.94-2.06 2.06-.94-2.06-.94-.94-2.06-.94 2.06-2.06.94zm-11 1L8.5 8.5l.94-2.06 2.06-.94-2.06-.94L8.5 2.5l-.94 2.06-2.06.94zm10 10l.94 2.06.94-2.06 2.06-.94-2.06-.94-.94-2.06-.94 2.06-2.06.94z\"/><path d=\"M17.41 7.96l-1.37-1.37c-.4-.4-.92-.59-1.43-.59-.52 0-1.04.2-1.43.59L10.3 9.45l-7.72 7.72c-.78.78-.78 2.05 0 2.83L4 21.41c.39.39.9.59 1.41.59.51 0 1.02-.2 1.41-.59l7.78-7.78 2.81-2.81c.8-.78.8-2.07 0-2.86zM5.41 20L4 18.59l7.72-7.72 1.47 1.35L5.41 20z\"/>\n",
              "  </svg>\n",
              "      </button>\n",
              "      \n",
              "  <style>\n",
              "    .colab-df-container {\n",
              "      display:flex;\n",
              "      flex-wrap:wrap;\n",
              "      gap: 12px;\n",
              "    }\n",
              "\n",
              "    .colab-df-convert {\n",
              "      background-color: #E8F0FE;\n",
              "      border: none;\n",
              "      border-radius: 50%;\n",
              "      cursor: pointer;\n",
              "      display: none;\n",
              "      fill: #1967D2;\n",
              "      height: 32px;\n",
              "      padding: 0 0 0 0;\n",
              "      width: 32px;\n",
              "    }\n",
              "\n",
              "    .colab-df-convert:hover {\n",
              "      background-color: #E2EBFA;\n",
              "      box-shadow: 0px 1px 2px rgba(60, 64, 67, 0.3), 0px 1px 3px 1px rgba(60, 64, 67, 0.15);\n",
              "      fill: #174EA6;\n",
              "    }\n",
              "\n",
              "    [theme=dark] .colab-df-convert {\n",
              "      background-color: #3B4455;\n",
              "      fill: #D2E3FC;\n",
              "    }\n",
              "\n",
              "    [theme=dark] .colab-df-convert:hover {\n",
              "      background-color: #434B5C;\n",
              "      box-shadow: 0px 1px 3px 1px rgba(0, 0, 0, 0.15);\n",
              "      filter: drop-shadow(0px 1px 2px rgba(0, 0, 0, 0.3));\n",
              "      fill: #FFFFFF;\n",
              "    }\n",
              "  </style>\n",
              "\n",
              "      <script>\n",
              "        const buttonEl =\n",
              "          document.querySelector('#df-429eccec-b9dc-4b3a-97cd-d66bdce7b00a button.colab-df-convert');\n",
              "        buttonEl.style.display =\n",
              "          google.colab.kernel.accessAllowed ? 'block' : 'none';\n",
              "\n",
              "        async function convertToInteractive(key) {\n",
              "          const element = document.querySelector('#df-429eccec-b9dc-4b3a-97cd-d66bdce7b00a');\n",
              "          const dataTable =\n",
              "            await google.colab.kernel.invokeFunction('convertToInteractive',\n",
              "                                                     [key], {});\n",
              "          if (!dataTable) return;\n",
              "\n",
              "          const docLinkHtml = 'Like what you see? Visit the ' +\n",
              "            '<a target=\"_blank\" href=https://colab.research.google.com/notebooks/data_table.ipynb>data table notebook</a>'\n",
              "            + ' to learn more about interactive tables.';\n",
              "          element.innerHTML = '';\n",
              "          dataTable['output_type'] = 'display_data';\n",
              "          await google.colab.output.renderOutput(dataTable, element);\n",
              "          const docLink = document.createElement('div');\n",
              "          docLink.innerHTML = docLinkHtml;\n",
              "          element.appendChild(docLink);\n",
              "        }\n",
              "      </script>\n",
              "    </div>\n",
              "  </div>\n",
              "  "
            ]
          },
          "metadata": {},
          "execution_count": 12
        }
      ],
      "source": [
        "df.describe().T"
      ]
    },
    {
      "cell_type": "code",
      "execution_count": 13,
      "metadata": {
        "colab": {
          "base_uri": "https://localhost:8080/",
          "height": 550
        },
        "id": "w8K8BSmj-4_N",
        "outputId": "52fbf49d-85c8-4f7c-c213-ab2a4059784a"
      },
      "outputs": [
        {
          "output_type": "display_data",
          "data": {
            "text/plain": [
              "<Figure size 540x540 with 12 Axes>"
            ],
            "image/png": "[encoded data removed]"
          },
          "metadata": {}
        }
      ],
      "source": [
        "sns.pairplot(df);"
      ]
    },
    {
      "cell_type": "code",
      "execution_count": 14,
      "metadata": {
        "id": "W6fDdJcH-4_O",
        "outputId": "bfdc6e19-71ce-4f61-deb3-e4765817a7cd",
        "colab": {
          "base_uri": "https://localhost:8080/",
          "height": 143
        }
      },
      "outputs": [
        {
          "output_type": "execute_result",
          "data": {
            "text/plain": [
              "          price  feature1  feature2\n",
              "price     1.000     0.444     0.908\n",
              "feature1  0.444     1.000     0.031\n",
              "feature2  0.908     0.031     1.000"
            ],
            "text/html": [
              "\n",
              "  <div id=\"df-77e02936-e087-436d-a9ec-7abd12213dce\">\n",
              "    <div class=\"colab-df-container\">\n",
              "      <div>\n",
              "<style scoped>\n",
              "    .dataframe tbody tr th:only-of-type {\n",
              "        vertical-align: middle;\n",
              "    }\n",
              "\n",
              "    .dataframe tbody tr th {\n",
              "        vertical-align: top;\n",
              "    }\n",
              "\n",
              "    .dataframe thead th {\n",
              "        text-align: right;\n",
              "    }\n",
              "</style>\n",
              "<table border=\"1\" class=\"dataframe\">\n",
              "  <thead>\n",
              "    <tr style=\"text-align: right;\">\n",
              "      <th></th>\n",
              "      <th>price</th>\n",
              "      <th>feature1</th>\n",
              "      <th>feature2</th>\n",
              "    </tr>\n",
              "  </thead>\n",
              "  <tbody>\n",
              "    <tr>\n",
              "      <th>price</th>\n",
              "      <td>1.000</td>\n",
              "      <td>0.444</td>\n",
              "      <td>0.908</td>\n",
              "    </tr>\n",
              "    <tr>\n",
              "      <th>feature1</th>\n",
              "      <td>0.444</td>\n",
              "      <td>1.000</td>\n",
              "      <td>0.031</td>\n",
              "    </tr>\n",
              "    <tr>\n",
              "      <th>feature2</th>\n",
              "      <td>0.908</td>\n",
              "      <td>0.031</td>\n",
              "      <td>1.000</td>\n",
              "    </tr>\n",
              "  </tbody>\n",
              "</table>\n",
              "</div>\n",
              "      <button class=\"colab-df-convert\" onclick=\"convertToInteractive('df-77e02936-e087-436d-a9ec-7abd12213dce')\"\n",
              "              title=\"Convert this dataframe to an interactive table.\"\n",
              "              style=\"display:none;\">\n",
              "        \n",
              "  <svg xmlns=\"http://www.w3.org/2000/svg\" height=\"24px\"viewBox=\"0 0 24 24\"\n",
              "       width=\"24px\">\n",
              "    <path d=\"M0 0h24v24H0V0z\" fill=\"none\"/>\n",
              "    <path d=\"M18.56 5.44l.94 2.06.94-2.06 2.06-.94-2.06-.94-.94-2.06-.94 2.06-2.06.94zm-11 1L8.5 8.5l.94-2.06 2.06-.94-2.06-.94L8.5 2.5l-.94 2.06-2.06.94zm10 10l.94 2.06.94-2.06 2.06-.94-2.06-.94-.94-2.06-.94 2.06-2.06.94z\"/><path d=\"M17.41 7.96l-1.37-1.37c-.4-.4-.92-.59-1.43-.59-.52 0-1.04.2-1.43.59L10.3 9.45l-7.72 7.72c-.78.78-.78 2.05 0 2.83L4 21.41c.39.39.9.59 1.41.59.51 0 1.02-.2 1.41-.59l7.78-7.78 2.81-2.81c.8-.78.8-2.07 0-2.86zM5.41 20L4 18.59l7.72-7.72 1.47 1.35L5.41 20z\"/>\n",
              "  </svg>\n",
              "      </button>\n",
              "      \n",
              "  <style>\n",
              "    .colab-df-container {\n",
              "      display:flex;\n",
              "      flex-wrap:wrap;\n",
              "      gap: 12px;\n",
              "    }\n",
              "\n",
              "    .colab-df-convert {\n",
              "      background-color: #E8F0FE;\n",
              "      border: none;\n",
              "      border-radius: 50%;\n",
              "      cursor: pointer;\n",
              "      display: none;\n",
              "      fill: #1967D2;\n",
              "      height: 32px;\n",
              "      padding: 0 0 0 0;\n",
              "      width: 32px;\n",
              "    }\n",
              "\n",
              "    .colab-df-convert:hover {\n",
              "      background-color: #E2EBFA;\n",
              "      box-shadow: 0px 1px 2px rgba(60, 64, 67, 0.3), 0px 1px 3px 1px rgba(60, 64, 67, 0.15);\n",
              "      fill: #174EA6;\n",
              "    }\n",
              "\n",
              "    [theme=dark] .colab-df-convert {\n",
              "      background-color: #3B4455;\n",
              "      fill: #D2E3FC;\n",
              "    }\n",
              "\n",
              "    [theme=dark] .colab-df-convert:hover {\n",
              "      background-color: #434B5C;\n",
              "      box-shadow: 0px 1px 3px 1px rgba(0, 0, 0, 0.15);\n",
              "      filter: drop-shadow(0px 1px 2px rgba(0, 0, 0, 0.3));\n",
              "      fill: #FFFFFF;\n",
              "    }\n",
              "  </style>\n",
              "\n",
              "      <script>\n",
              "        const buttonEl =\n",
              "          document.querySelector('#df-77e02936-e087-436d-a9ec-7abd12213dce button.colab-df-convert');\n",
              "        buttonEl.style.display =\n",
              "          google.colab.kernel.accessAllowed ? 'block' : 'none';\n",
              "\n",
              "        async function convertToInteractive(key) {\n",
              "          const element = document.querySelector('#df-77e02936-e087-436d-a9ec-7abd12213dce');\n",
              "          const dataTable =\n",
              "            await google.colab.kernel.invokeFunction('convertToInteractive',\n",
              "                                                     [key], {});\n",
              "          if (!dataTable) return;\n",
              "\n",
              "          const docLinkHtml = 'Like what you see? Visit the ' +\n",
              "            '<a target=\"_blank\" href=https://colab.research.google.com/notebooks/data_table.ipynb>data table notebook</a>'\n",
              "            + ' to learn more about interactive tables.';\n",
              "          element.innerHTML = '';\n",
              "          dataTable['output_type'] = 'display_data';\n",
              "          await google.colab.output.renderOutput(dataTable, element);\n",
              "          const docLink = document.createElement('div');\n",
              "          docLink.innerHTML = docLinkHtml;\n",
              "          element.appendChild(docLink);\n",
              "        }\n",
              "      </script>\n",
              "    </div>\n",
              "  </div>\n",
              "  "
            ]
          },
          "metadata": {},
          "execution_count": 14
        }
      ],
      "source": [
        "df.corr()"
      ]
    },
    {
      "cell_type": "markdown",
      "metadata": {
        "id": "SoIqUnNt-4_P"
      },
      "source": [
        "## Preprocessing of Data\n",
        "- Train | Test Split, Scalling"
      ]
    },
    {
      "cell_type": "code",
      "execution_count": 15,
      "metadata": {
        "id": "p96ICtxq-4_P"
      },
      "outputs": [],
      "source": [
        "from sklearn.model_selection import train_test_split"
      ]
    },
    {
      "cell_type": "code",
      "execution_count": 16,
      "metadata": {
        "id": "dUAPWAdT-4_Q"
      },
      "outputs": [],
      "source": [
        "# X = df[['feature1', 'feature2']].values\n",
        "# y = df['price'].values"
      ]
    },
    {
      "cell_type": "code",
      "execution_count": 17,
      "metadata": {
        "id": "-zzUn6E6-4_Q"
      },
      "outputs": [],
      "source": [
        "X = df[['feature1', 'feature2']]\n",
        "y = df['price']"
      ]
    },
    {
      "cell_type": "code",
      "execution_count": 18,
      "metadata": {
        "id": "FBvUUIs1-4_R",
        "outputId": "cfdb8512-71cb-4e29-dfe6-b81637184361",
        "colab": {
          "base_uri": "https://localhost:8080/",
          "height": 424
        }
      },
      "outputs": [
        {
          "output_type": "execute_result",
          "data": {
            "text/plain": [
              "     feature1  feature2\n",
              "0     999.788   999.766\n",
              "1     998.862  1001.042\n",
              "2    1000.070   998.844\n",
              "3     999.952  1000.441\n",
              "4    1000.446  1000.339\n",
              "..        ...       ...\n",
              "995  1000.019   999.673\n",
              "996   998.855  1000.020\n",
              "997  1001.452   998.848\n",
              "998  1000.771   998.563\n",
              "999   999.232  1001.451\n",
              "\n",
              "[1000 rows x 2 columns]"
            ],
            "text/html": [
              "\n",
              "  <div id=\"df-94a0bf7d-2b03-43b4-b7ef-f3e860c6da30\">\n",
              "    <div class=\"colab-df-container\">\n",
              "      <div>\n",
              "<style scoped>\n",
              "    .dataframe tbody tr th:only-of-type {\n",
              "        vertical-align: middle;\n",
              "    }\n",
              "\n",
              "    .dataframe tbody tr th {\n",
              "        vertical-align: top;\n",
              "    }\n",
              "\n",
              "    .dataframe thead th {\n",
              "        text-align: right;\n",
              "    }\n",
              "</style>\n",
              "<table border=\"1\" class=\"dataframe\">\n",
              "  <thead>\n",
              "    <tr style=\"text-align: right;\">\n",
              "      <th></th>\n",
              "      <th>feature1</th>\n",
              "      <th>feature2</th>\n",
              "    </tr>\n",
              "  </thead>\n",
              "  <tbody>\n",
              "    <tr>\n",
              "      <th>0</th>\n",
              "      <td>999.788</td>\n",
              "      <td>999.766</td>\n",
              "    </tr>\n",
              "    <tr>\n",
              "      <th>1</th>\n",
              "      <td>998.862</td>\n",
              "      <td>1001.042</td>\n",
              "    </tr>\n",
              "    <tr>\n",
              "      <th>2</th>\n",
              "      <td>1000.070</td>\n",
              "      <td>998.844</td>\n",
              "    </tr>\n",
              "    <tr>\n",
              "      <th>3</th>\n",
              "      <td>999.952</td>\n",
              "      <td>1000.441</td>\n",
              "    </tr>\n",
              "    <tr>\n",
              "      <th>4</th>\n",
              "      <td>1000.446</td>\n",
              "      <td>1000.339</td>\n",
              "    </tr>\n",
              "    <tr>\n",
              "      <th>...</th>\n",
              "      <td>...</td>\n",
              "      <td>...</td>\n",
              "    </tr>\n",
              "    <tr>\n",
              "      <th>995</th>\n",
              "      <td>1000.019</td>\n",
              "      <td>999.673</td>\n",
              "    </tr>\n",
              "    <tr>\n",
              "      <th>996</th>\n",
              "      <td>998.855</td>\n",
              "      <td>1000.020</td>\n",
              "    </tr>\n",
              "    <tr>\n",
              "      <th>997</th>\n",
              "      <td>1001.452</td>\n",
              "      <td>998.848</td>\n",
              "    </tr>\n",
              "    <tr>\n",
              "      <th>998</th>\n",
              "      <td>1000.771</td>\n",
              "      <td>998.563</td>\n",
              "    </tr>\n",
              "    <tr>\n",
              "      <th>999</th>\n",
              "      <td>999.232</td>\n",
              "      <td>1001.451</td>\n",
              "    </tr>\n",
              "  </tbody>\n",
              "</table>\n",
              "<p>1000 rows × 2 columns</p>\n",
              "</div>\n",
              "      <button class=\"colab-df-convert\" onclick=\"convertToInteractive('df-94a0bf7d-2b03-43b4-b7ef-f3e860c6da30')\"\n",
              "              title=\"Convert this dataframe to an interactive table.\"\n",
              "              style=\"display:none;\">\n",
              "        \n",
              "  <svg xmlns=\"http://www.w3.org/2000/svg\" height=\"24px\"viewBox=\"0 0 24 24\"\n",
              "       width=\"24px\">\n",
              "    <path d=\"M0 0h24v24H0V0z\" fill=\"none\"/>\n",
              "    <path d=\"M18.56 5.44l.94 2.06.94-2.06 2.06-.94-2.06-.94-.94-2.06-.94 2.06-2.06.94zm-11 1L8.5 8.5l.94-2.06 2.06-.94-2.06-.94L8.5 2.5l-.94 2.06-2.06.94zm10 10l.94 2.06.94-2.06 2.06-.94-2.06-.94-.94-2.06-.94 2.06-2.06.94z\"/><path d=\"M17.41 7.96l-1.37-1.37c-.4-.4-.92-.59-1.43-.59-.52 0-1.04.2-1.43.59L10.3 9.45l-7.72 7.72c-.78.78-.78 2.05 0 2.83L4 21.41c.39.39.9.59 1.41.59.51 0 1.02-.2 1.41-.59l7.78-7.78 2.81-2.81c.8-.78.8-2.07 0-2.86zM5.41 20L4 18.59l7.72-7.72 1.47 1.35L5.41 20z\"/>\n",
              "  </svg>\n",
              "      </button>\n",
              "      \n",
              "  <style>\n",
              "    .colab-df-container {\n",
              "      display:flex;\n",
              "      flex-wrap:wrap;\n",
              "      gap: 12px;\n",
              "    }\n",
              "\n",
              "    .colab-df-convert {\n",
              "      background-color: #E8F0FE;\n",
              "      border: none;\n",
              "      border-radius: 50%;\n",
              "      cursor: pointer;\n",
              "      display: none;\n",
              "      fill: #1967D2;\n",
              "      height: 32px;\n",
              "      padding: 0 0 0 0;\n",
              "      width: 32px;\n",
              "    }\n",
              "\n",
              "    .colab-df-convert:hover {\n",
              "      background-color: #E2EBFA;\n",
              "      box-shadow: 0px 1px 2px rgba(60, 64, 67, 0.3), 0px 1px 3px 1px rgba(60, 64, 67, 0.15);\n",
              "      fill: #174EA6;\n",
              "    }\n",
              "\n",
              "    [theme=dark] .colab-df-convert {\n",
              "      background-color: #3B4455;\n",
              "      fill: #D2E3FC;\n",
              "    }\n",
              "\n",
              "    [theme=dark] .colab-df-convert:hover {\n",
              "      background-color: #434B5C;\n",
              "      box-shadow: 0px 1px 3px 1px rgba(0, 0, 0, 0.15);\n",
              "      filter: drop-shadow(0px 1px 2px rgba(0, 0, 0, 0.3));\n",
              "      fill: #FFFFFF;\n",
              "    }\n",
              "  </style>\n",
              "\n",
              "      <script>\n",
              "        const buttonEl =\n",
              "          document.querySelector('#df-94a0bf7d-2b03-43b4-b7ef-f3e860c6da30 button.colab-df-convert');\n",
              "        buttonEl.style.display =\n",
              "          google.colab.kernel.accessAllowed ? 'block' : 'none';\n",
              "\n",
              "        async function convertToInteractive(key) {\n",
              "          const element = document.querySelector('#df-94a0bf7d-2b03-43b4-b7ef-f3e860c6da30');\n",
              "          const dataTable =\n",
              "            await google.colab.kernel.invokeFunction('convertToInteractive',\n",
              "                                                     [key], {});\n",
              "          if (!dataTable) return;\n",
              "\n",
              "          const docLinkHtml = 'Like what you see? Visit the ' +\n",
              "            '<a target=\"_blank\" href=https://colab.research.google.com/notebooks/data_table.ipynb>data table notebook</a>'\n",
              "            + ' to learn more about interactive tables.';\n",
              "          element.innerHTML = '';\n",
              "          dataTable['output_type'] = 'display_data';\n",
              "          await google.colab.output.renderOutput(dataTable, element);\n",
              "          const docLink = document.createElement('div');\n",
              "          docLink.innerHTML = docLinkHtml;\n",
              "          element.appendChild(docLink);\n",
              "        }\n",
              "      </script>\n",
              "    </div>\n",
              "  </div>\n",
              "  "
            ]
          },
          "metadata": {},
          "execution_count": 18
        }
      ],
      "source": [
        "X"
      ]
    },
    {
      "cell_type": "code",
      "execution_count": 19,
      "metadata": {
        "id": "ac4MmZp--4_R",
        "outputId": "663ae5db-3a7f-46d3-daaa-f57d3e77c593",
        "colab": {
          "base_uri": "https://localhost:8080/"
        }
      },
      "outputs": [
        {
          "output_type": "execute_result",
          "data": {
            "text/plain": [
              "0     461.528\n",
              "1     548.130\n",
              "2     410.297\n",
              "3     540.382\n",
              "4     546.025\n",
              "        ...  \n",
              "995   476.526\n",
              "996   457.313\n",
              "997   456.721\n",
              "998   403.316\n",
              "999   599.367\n",
              "Name: price, Length: 1000, dtype: float64"
            ]
          },
          "metadata": {},
          "execution_count": 19
        }
      ],
      "source": [
        "y"
      ]
    },
    {
      "cell_type": "code",
      "execution_count": 20,
      "metadata": {
        "id": "V4e-Ilbv-4_T"
      },
      "outputs": [],
      "source": [
        "X_train, X_test, y_train, y_test = train_test_split(X, y, test_size = 0.3, random_state = 42)"
      ]
    },
    {
      "cell_type": "code",
      "execution_count": 21,
      "metadata": {
        "id": "xZk0vSeM-4_U",
        "outputId": "6c71b81b-d5b2-46ab-e0ee-a48175559d4c",
        "colab": {
          "base_uri": "https://localhost:8080/"
        }
      },
      "outputs": [
        {
          "output_type": "execute_result",
          "data": {
            "text/plain": [
              "(700, 2)"
            ]
          },
          "metadata": {},
          "execution_count": 21
        }
      ],
      "source": [
        "X_train.shape"
      ]
    },
    {
      "cell_type": "code",
      "execution_count": 22,
      "metadata": {
        "id": "GHYSsKBw-4_U",
        "outputId": "510fe13e-f8ca-49ba-b581-fee80ed90fb1",
        "colab": {
          "base_uri": "https://localhost:8080/"
        }
      },
      "outputs": [
        {
          "output_type": "execute_result",
          "data": {
            "text/plain": [
              "(300, 2)"
            ]
          },
          "metadata": {},
          "execution_count": 22
        }
      ],
      "source": [
        "X_test.shape"
      ]
    },
    {
      "cell_type": "code",
      "execution_count": 23,
      "metadata": {
        "id": "f-3tBGpo-4_V"
      },
      "outputs": [],
      "source": [
        "from sklearn.preprocessing import MinMaxScaler"
      ]
    },
    {
      "cell_type": "code",
      "execution_count": 24,
      "metadata": {
        "id": "RdSL-3v2-4_V",
        "outputId": "9e907d78-e0a8-409d-90b0-e975e24a18d7",
        "colab": {
          "base_uri": "https://localhost:8080/"
        }
      },
      "outputs": [
        {
          "output_type": "stream",
          "name": "stdout",
          "text": [
            "Help on class MinMaxScaler in module sklearn.preprocessing._data:\n",
            "\n",
            "class MinMaxScaler(sklearn.base._OneToOneFeatureMixin, sklearn.base.TransformerMixin, sklearn.base.BaseEstimator)\n",
            " |  MinMaxScaler(feature_range=(0, 1), *, copy=True, clip=False)\n",
            " |  \n",
            " |  Transform features by scaling each feature to a given range.\n",
            " |  \n",
            " |  This estimator scales and translates each feature individually such\n",
            " |  that it is in the given range on the training set, e.g. between\n",
            " |  zero and one.\n",
            " |  \n",
            " |  The transformation is given by::\n",
            " |  \n",
            " |      X_std = (X - X.min(axis=0)) / (X.max(axis=0) - X.min(axis=0))\n",
            " |      X_scaled = X_std * (max - min) + min\n",
            " |  \n",
            " |  where min, max = feature_range.\n",
            " |  \n",
            " |  This transformation is often used as an alternative to zero mean,\n",
            " |  unit variance scaling.\n",
            " |  \n",
            " |  Read more in the :ref:`User Guide <preprocessing_scaler>`.\n",
            " |  \n",
            " |  Parameters\n",
            " |  ----------\n",
            " |  feature_range : tuple (min, max), default=(0, 1)\n",
            " |      Desired range of transformed data.\n",
            " |  \n",
            " |  copy : bool, default=True\n",
            " |      Set to False to perform inplace row normalization and avoid a\n",
            " |      copy (if the input is already a numpy array).\n",
            " |  \n",
            " |  clip : bool, default=False\n",
            " |      Set to True to clip transformed values of held-out data to\n",
            " |      provided `feature range`.\n",
            " |  \n",
            " |      .. versionadded:: 0.24\n",
            " |  \n",
            " |  Attributes\n",
            " |  ----------\n",
            " |  min_ : ndarray of shape (n_features,)\n",
            " |      Per feature adjustment for minimum. Equivalent to\n",
            " |      ``min - X.min(axis=0) * self.scale_``\n",
            " |  \n",
            " |  scale_ : ndarray of shape (n_features,)\n",
            " |      Per feature relative scaling of the data. Equivalent to\n",
            " |      ``(max - min) / (X.max(axis=0) - X.min(axis=0))``\n",
            " |  \n",
            " |      .. versionadded:: 0.17\n",
            " |         *scale_* attribute.\n",
            " |  \n",
            " |  data_min_ : ndarray of shape (n_features,)\n",
            " |      Per feature minimum seen in the data\n",
            " |  \n",
            " |      .. versionadded:: 0.17\n",
            " |         *data_min_*\n",
            " |  \n",
            " |  data_max_ : ndarray of shape (n_features,)\n",
            " |      Per feature maximum seen in the data\n",
            " |  \n",
            " |      .. versionadded:: 0.17\n",
            " |         *data_max_*\n",
            " |  \n",
            " |  data_range_ : ndarray of shape (n_features,)\n",
            " |      Per feature range ``(data_max_ - data_min_)`` seen in the data\n",
            " |  \n",
            " |      .. versionadded:: 0.17\n",
            " |         *data_range_*\n",
            " |  \n",
            " |  n_features_in_ : int\n",
            " |      Number of features seen during :term:`fit`.\n",
            " |  \n",
            " |      .. versionadded:: 0.24\n",
            " |  \n",
            " |  n_samples_seen_ : int\n",
            " |      The number of samples processed by the estimator.\n",
            " |      It will be reset on new calls to fit, but increments across\n",
            " |      ``partial_fit`` calls.\n",
            " |  \n",
            " |  feature_names_in_ : ndarray of shape (`n_features_in_`,)\n",
            " |      Names of features seen during :term:`fit`. Defined only when `X`\n",
            " |      has feature names that are all strings.\n",
            " |  \n",
            " |      .. versionadded:: 1.0\n",
            " |  \n",
            " |  See Also\n",
            " |  --------\n",
            " |  minmax_scale : Equivalent function without the estimator API.\n",
            " |  \n",
            " |  Notes\n",
            " |  -----\n",
            " |  NaNs are treated as missing values: disregarded in fit, and maintained in\n",
            " |  transform.\n",
            " |  \n",
            " |  For a comparison of the different scalers, transformers, and normalizers,\n",
            " |  see :ref:`examples/preprocessing/plot_all_scaling.py\n",
            " |  <sphx_glr_auto_examples_preprocessing_plot_all_scaling.py>`.\n",
            " |  \n",
            " |  Examples\n",
            " |  --------\n",
            " |  >>> from sklearn.preprocessing import MinMaxScaler\n",
            " |  >>> data = [[-1, 2], [-0.5, 6], [0, 10], [1, 18]]\n",
            " |  >>> scaler = MinMaxScaler()\n",
            " |  >>> print(scaler.fit(data))\n",
            " |  MinMaxScaler()\n",
            " |  >>> print(scaler.data_max_)\n",
            " |  [ 1. 18.]\n",
            " |  >>> print(scaler.transform(data))\n",
            " |  [[0.   0.  ]\n",
            " |   [0.25 0.25]\n",
            " |   [0.5  0.5 ]\n",
            " |   [1.   1.  ]]\n",
            " |  >>> print(scaler.transform([[2, 2]]))\n",
            " |  [[1.5 0. ]]\n",
            " |  \n",
            " |  Method resolution order:\n",
            " |      MinMaxScaler\n",
            " |      sklearn.base._OneToOneFeatureMixin\n",
            " |      sklearn.base.TransformerMixin\n",
            " |      sklearn.base.BaseEstimator\n",
            " |      builtins.object\n",
            " |  \n",
            " |  Methods defined here:\n",
            " |  \n",
            " |  __init__(self, feature_range=(0, 1), *, copy=True, clip=False)\n",
            " |      Initialize self.  See help(type(self)) for accurate signature.\n",
            " |  \n",
            " |  fit(self, X, y=None)\n",
            " |      Compute the minimum and maximum to be used for later scaling.\n",
            " |      \n",
            " |      Parameters\n",
            " |      ----------\n",
            " |      X : array-like of shape (n_samples, n_features)\n",
            " |          The data used to compute the per-feature minimum and maximum\n",
            " |          used for later scaling along the features axis.\n",
            " |      \n",
            " |      y : None\n",
            " |          Ignored.\n",
            " |      \n",
            " |      Returns\n",
            " |      -------\n",
            " |      self : object\n",
            " |          Fitted scaler.\n",
            " |  \n",
            " |  inverse_transform(self, X)\n",
            " |      Undo the scaling of X according to feature_range.\n",
            " |      \n",
            " |      Parameters\n",
            " |      ----------\n",
            " |      X : array-like of shape (n_samples, n_features)\n",
            " |          Input data that will be transformed. It cannot be sparse.\n",
            " |      \n",
            " |      Returns\n",
            " |      -------\n",
            " |      Xt : ndarray of shape (n_samples, n_features)\n",
            " |          Transformed data.\n",
            " |  \n",
            " |  partial_fit(self, X, y=None)\n",
            " |      Online computation of min and max on X for later scaling.\n",
            " |      \n",
            " |      All of X is processed as a single batch. This is intended for cases\n",
            " |      when :meth:`fit` is not feasible due to very large number of\n",
            " |      `n_samples` or because X is read from a continuous stream.\n",
            " |      \n",
            " |      Parameters\n",
            " |      ----------\n",
            " |      X : array-like of shape (n_samples, n_features)\n",
            " |          The data used to compute the mean and standard deviation\n",
            " |          used for later scaling along the features axis.\n",
            " |      \n",
            " |      y : None\n",
            " |          Ignored.\n",
            " |      \n",
            " |      Returns\n",
            " |      -------\n",
            " |      self : object\n",
            " |          Fitted scaler.\n",
            " |  \n",
            " |  transform(self, X)\n",
            " |      Scale features of X according to feature_range.\n",
            " |      \n",
            " |      Parameters\n",
            " |      ----------\n",
            " |      X : array-like of shape (n_samples, n_features)\n",
            " |          Input data that will be transformed.\n",
            " |      \n",
            " |      Returns\n",
            " |      -------\n",
            " |      Xt : ndarray of shape (n_samples, n_features)\n",
            " |          Transformed data.\n",
            " |  \n",
            " |  ----------------------------------------------------------------------\n",
            " |  Methods inherited from sklearn.base._OneToOneFeatureMixin:\n",
            " |  \n",
            " |  get_feature_names_out(self, input_features=None)\n",
            " |      Get output feature names for transformation.\n",
            " |      \n",
            " |      Parameters\n",
            " |      ----------\n",
            " |      input_features : array-like of str or None, default=None\n",
            " |          Input features.\n",
            " |      \n",
            " |          - If `input_features` is `None`, then `feature_names_in_` is\n",
            " |            used as feature names in. If `feature_names_in_` is not defined,\n",
            " |            then names are generated: `[x0, x1, ..., x(n_features_in_)]`.\n",
            " |          - If `input_features` is an array-like, then `input_features` must\n",
            " |            match `feature_names_in_` if `feature_names_in_` is defined.\n",
            " |      \n",
            " |      Returns\n",
            " |      -------\n",
            " |      feature_names_out : ndarray of str objects\n",
            " |          Same as input features.\n",
            " |  \n",
            " |  ----------------------------------------------------------------------\n",
            " |  Data descriptors inherited from sklearn.base._OneToOneFeatureMixin:\n",
            " |  \n",
            " |  __dict__\n",
            " |      dictionary for instance variables (if defined)\n",
            " |  \n",
            " |  __weakref__\n",
            " |      list of weak references to the object (if defined)\n",
            " |  \n",
            " |  ----------------------------------------------------------------------\n",
            " |  Methods inherited from sklearn.base.TransformerMixin:\n",
            " |  \n",
            " |  fit_transform(self, X, y=None, **fit_params)\n",
            " |      Fit to data, then transform it.\n",
            " |      \n",
            " |      Fits transformer to `X` and `y` with optional parameters `fit_params`\n",
            " |      and returns a transformed version of `X`.\n",
            " |      \n",
            " |      Parameters\n",
            " |      ----------\n",
            " |      X : array-like of shape (n_samples, n_features)\n",
            " |          Input samples.\n",
            " |      \n",
            " |      y :  array-like of shape (n_samples,) or (n_samples, n_outputs),                 default=None\n",
            " |          Target values (None for unsupervised transformations).\n",
            " |      \n",
            " |      **fit_params : dict\n",
            " |          Additional fit parameters.\n",
            " |      \n",
            " |      Returns\n",
            " |      -------\n",
            " |      X_new : ndarray array of shape (n_samples, n_features_new)\n",
            " |          Transformed array.\n",
            " |  \n",
            " |  ----------------------------------------------------------------------\n",
            " |  Methods inherited from sklearn.base.BaseEstimator:\n",
            " |  \n",
            " |  __getstate__(self)\n",
            " |  \n",
            " |  __repr__(self, N_CHAR_MAX=700)\n",
            " |      Return repr(self).\n",
            " |  \n",
            " |  __setstate__(self, state)\n",
            " |  \n",
            " |  get_params(self, deep=True)\n",
            " |      Get parameters for this estimator.\n",
            " |      \n",
            " |      Parameters\n",
            " |      ----------\n",
            " |      deep : bool, default=True\n",
            " |          If True, will return the parameters for this estimator and\n",
            " |          contained subobjects that are estimators.\n",
            " |      \n",
            " |      Returns\n",
            " |      -------\n",
            " |      params : dict\n",
            " |          Parameter names mapped to their values.\n",
            " |  \n",
            " |  set_params(self, **params)\n",
            " |      Set the parameters of this estimator.\n",
            " |      \n",
            " |      The method works on simple estimators as well as on nested objects\n",
            " |      (such as :class:`~sklearn.pipeline.Pipeline`). The latter have\n",
            " |      parameters of the form ``<component>__<parameter>`` so that it's\n",
            " |      possible to update each component of a nested object.\n",
            " |      \n",
            " |      Parameters\n",
            " |      ----------\n",
            " |      **params : dict\n",
            " |          Estimator parameters.\n",
            " |      \n",
            " |      Returns\n",
            " |      -------\n",
            " |      self : estimator instance\n",
            " |          Estimator instance.\n",
            "\n"
          ]
        }
      ],
      "source": [
        "help(MinMaxScaler)"
      ]
    },
    {
      "cell_type": "code",
      "execution_count": 25,
      "metadata": {
        "id": "GZOJdVJq-4_V"
      },
      "outputs": [],
      "source": [
        "scaler = MinMaxScaler()"
      ]
    },
    {
      "cell_type": "code",
      "execution_count": 26,
      "metadata": {
        "id": "Cu28CU-9-4_W"
      },
      "outputs": [],
      "source": [
        "scaler.fit(X_train)\n",
        "X_train = scaler.transform(X_train)\n",
        "X_test = scaler.transform(X_test)"
      ]
    },
    {
      "cell_type": "markdown",
      "metadata": {
        "id": "bEGAqMYw-4_W"
      },
      "source": [
        "## Modelling"
      ]
    },
    {
      "cell_type": "code",
      "execution_count": 27,
      "metadata": {
        "id": "b1jS8aMN-4_W"
      },
      "outputs": [],
      "source": [
        "import tensorflow as tf"
      ]
    },
    {
      "cell_type": "code",
      "execution_count": 76,
      "metadata": {
        "id": "z5A0tHKk-4_X"
      },
      "outputs": [],
      "source": [
        "from tensorflow.keras.models import Sequential # TÜM LAYERLAR ARKA ARKAYA DİZİLİR\n",
        "from tensorflow.keras.layers import Input,Dense, Activation # "
      ]
    },
    {
      "cell_type": "code",
      "execution_count": null,
      "metadata": {
        "id": "EUJSp3KP-4_X"
      },
      "outputs": [],
      "source": [
        "help(Sequential)"
      ]
    },
    {
      "cell_type": "code",
      "execution_count": null,
      "metadata": {
        "id": "X5SsrKor-4_Y"
      },
      "outputs": [],
      "source": [
        "help(Dense)"
      ]
    },
    {
      "cell_type": "code",
      "execution_count": 31,
      "metadata": {
        "id": "SgpaZGRJ-4_Y",
        "outputId": "aab15dea-57d2-450a-dd2a-dd718a7da185",
        "colab": {
          "base_uri": "https://localhost:8080/"
        }
      },
      "outputs": [
        {
          "output_type": "execute_result",
          "data": {
            "text/plain": [
              "(700, 2)"
            ]
          },
          "metadata": {},
          "execution_count": 31
        }
      ],
      "source": [
        "X_train.shape"
      ]
    },
    {
      "cell_type": "code",
      "execution_count": 32,
      "metadata": {
        "id": "BP-vEIGO-4_Z"
      },
      "outputs": [],
      "source": [
        "# First way to create model\n",
        "\n",
        "model = Sequential([Input(shape = X_train.shape[1]),\n",
        "                    Dense(units = 4, activation = \"relu\"),\n",
        "                    Dense(units = 4, activation = \"relu\"),\n",
        "                    Dense(units = 4, activation = \"relu\"),\n",
        "                    Dense(units = 1)])"
      ]
    },
    {
      "cell_type": "code",
      "execution_count": 77,
      "metadata": {
        "id": "8MX7C-Qs-4_Z"
      },
      "outputs": [],
      "source": [
        "# Second way to create model (recommended)\n",
        "\n",
        "model = Sequential()\n",
        "#model.add(Input(shape = X_train.shape[1]))\n",
        "model.add(Dense(units = 4, activation = \"relu\", input_dim = X_train.shape[1])) # input dim : sırf bu inputları almak için atamıyoruz. sebep; modelin parametremelerini eğitime başlamadan kontrol edebilmemmizi (böylece kaç adet input geleceğini bilir )  sağlıyor\n",
        "model.add(Dense(units = 4, activation = \"relu\")) # %99 relu kullanacağız\n",
        "model.add(Dense(units = 4, activation = \"relu\"))\n",
        "model.add(Dense(units = 1))"
      ]
    },
    {
      "cell_type": "code",
      "source": [
        ""
      ],
      "metadata": {
        "id": "2CUWtuV56cMU"
      },
      "execution_count": null,
      "outputs": []
    },
    {
      "cell_type": "code",
      "execution_count": 34,
      "metadata": {
        "id": "LBskDJQb-4_c",
        "outputId": "4174663e-ade1-4acc-dc87-39e157682874",
        "colab": {
          "base_uri": "https://localhost:8080/"
        }
      },
      "outputs": [
        {
          "output_type": "stream",
          "name": "stdout",
          "text": [
            "Model: \"sequential_1\"\n",
            "_________________________________________________________________\n",
            " Layer (type)                Output Shape              Param #   \n",
            "=================================================================\n",
            " dense_4 (Dense)             (None, 4)                 12        \n",
            "                                                                 \n",
            " dense_5 (Dense)             (None, 4)                 20        \n",
            "                                                                 \n",
            " dense_6 (Dense)             (None, 4)                 20        \n",
            "                                                                 \n",
            " dense_7 (Dense)             (None, 1)                 5         \n",
            "                                                                 \n",
            "=================================================================\n",
            "Total params: 57\n",
            "Trainable params: 57\n",
            "Non-trainable params: 0\n",
            "_________________________________________________________________\n"
          ]
        }
      ],
      "source": [
        "model.summary()"
      ]
    },
    {
      "cell_type": "code",
      "execution_count": 78,
      "metadata": {
        "id": "IaDKobts-4_d",
        "outputId": "3ad6d472-cb3a-42b4-bcdb-cc59ed6e5d54",
        "colab": {
          "base_uri": "https://localhost:8080/"
        }
      },
      "outputs": [
        {
          "output_type": "execute_result",
          "data": {
            "text/plain": [
              "[<tf.Variable 'dense_12/kernel:0' shape=(2, 4) dtype=float32, numpy=\n",
              " array([[-0.59101653, -0.4356947 ,  0.9987354 , -0.33815026],\n",
              "        [ 0.6344085 ,  0.2152586 ,  0.82017946, -0.18576956]],\n",
              "       dtype=float32)>,\n",
              " <tf.Variable 'dense_12/bias:0' shape=(4,) dtype=float32, numpy=array([0., 0., 0., 0.], dtype=float32)>,\n",
              " <tf.Variable 'dense_13/kernel:0' shape=(4, 4) dtype=float32, numpy=\n",
              " array([[-0.01726061, -0.4518192 ,  0.07265973, -0.47323123],\n",
              "        [-0.61924815,  0.23928565, -0.17069745,  0.26829773],\n",
              "        [ 0.46290928, -0.0984565 , -0.24570256, -0.19601643],\n",
              "        [-0.8003694 ,  0.6135196 ,  0.16037112, -0.17394304]],\n",
              "       dtype=float32)>,\n",
              " <tf.Variable 'dense_13/bias:0' shape=(4,) dtype=float32, numpy=array([0., 0., 0., 0.], dtype=float32)>,\n",
              " <tf.Variable 'dense_14/kernel:0' shape=(4, 4) dtype=float32, numpy=\n",
              " array([[ 0.8092142 , -0.4872768 ,  0.34926683,  0.7197452 ],\n",
              "        [-0.39528573,  0.74456686,  0.4803396 , -0.0329836 ],\n",
              "        [ 0.49448138, -0.5586306 , -0.54184604, -0.4794602 ],\n",
              "        [-0.50600606,  0.7447421 , -0.19647688,  0.3838219 ]],\n",
              "       dtype=float32)>,\n",
              " <tf.Variable 'dense_14/bias:0' shape=(4,) dtype=float32, numpy=array([0., 0., 0., 0.], dtype=float32)>,\n",
              " <tf.Variable 'dense_15/kernel:0' shape=(4, 1) dtype=float32, numpy=\n",
              " array([[-0.9152695 ],\n",
              "        [-0.9705745 ],\n",
              "        [ 0.84826493],\n",
              "        [-0.00523865]], dtype=float32)>,\n",
              " <tf.Variable 'dense_15/bias:0' shape=(1,) dtype=float32, numpy=array([0.], dtype=float32)>]"
            ]
          },
          "metadata": {},
          "execution_count": 78
        }
      ],
      "source": [
        "model.weights"
      ]
    },
    {
      "cell_type": "markdown",
      "metadata": {
        "id": "W-iZcSNk-4_e"
      },
      "source": [
        "### Choosing an optimizer and loss\n",
        "\n",
        "Keep in mind what kind of problem you are trying to solve:\n",
        "\n",
        "    # For a multi-class classification problem\n",
        "    model.compile(optimizer='rmsprop',\n",
        "                  loss='categorical_crossentropy',\n",
        "                  metrics=['accuracy'])\n",
        "\n",
        "    # For a binary classification problem\n",
        "    model.compile(optimizer='rmsprop',\n",
        "                  loss='binary_crossentropy',\n",
        "                  metrics=['accuracy'])\n",
        "\n",
        "    # For a mean squared error regression problem\n",
        "    model.compile(optimizer='rmsprop',\n",
        "                  loss='mse')"
      ]
    },
    {
      "cell_type": "code",
      "execution_count": 79,
      "metadata": {
        "id": "aFQwNMp4-4_e"
      },
      "outputs": [],
      "source": [
        "model.compile(optimizer = \"rmsprop\", loss = \"mse\") # şuan eğitime hazır"
      ]
    },
    {
      "cell_type": "code",
      "execution_count": 80,
      "metadata": {
        "id": "ir_S9xty-4_f",
        "outputId": "c2b8d2cf-ad81-4221-9814-0ff21de9df4c",
        "colab": {
          "base_uri": "https://localhost:8080/"
        }
      },
      "outputs": [
        {
          "output_type": "stream",
          "name": "stdout",
          "text": [
            "Epoch 1/250\n",
            "22/22 [==============================] - 0s 1ms/step - loss: 256831.3438\n",
            "Epoch 2/250\n",
            "22/22 [==============================] - 0s 1ms/step - loss: 256705.4688\n",
            "Epoch 3/250\n",
            "22/22 [==============================] - 0s 1ms/step - loss: 256605.3281\n",
            "Epoch 4/250\n",
            "22/22 [==============================] - 0s 1ms/step - loss: 256525.0312\n",
            "Epoch 5/250\n",
            "22/22 [==============================] - 0s 1ms/step - loss: 256445.9219\n",
            "Epoch 6/250\n",
            "22/22 [==============================] - 0s 2ms/step - loss: 256352.5781\n",
            "Epoch 7/250\n",
            "22/22 [==============================] - 0s 1ms/step - loss: 256244.4375\n",
            "Epoch 8/250\n",
            "22/22 [==============================] - 0s 1ms/step - loss: 256121.2500\n",
            "Epoch 9/250\n",
            "22/22 [==============================] - 0s 2ms/step - loss: 255982.7188\n",
            "Epoch 10/250\n",
            "22/22 [==============================] - 0s 1ms/step - loss: 255826.6250\n",
            "Epoch 11/250\n",
            "22/22 [==============================] - 0s 1ms/step - loss: 255652.1875\n",
            "Epoch 12/250\n",
            "22/22 [==============================] - 0s 1ms/step - loss: 255457.2344\n",
            "Epoch 13/250\n",
            "22/22 [==============================] - 0s 1ms/step - loss: 255240.9375\n",
            "Epoch 14/250\n",
            "22/22 [==============================] - 0s 1ms/step - loss: 255002.9688\n",
            "Epoch 15/250\n",
            "22/22 [==============================] - 0s 1ms/step - loss: 254740.5781\n",
            "Epoch 16/250\n",
            "22/22 [==============================] - 0s 1ms/step - loss: 254450.8594\n",
            "Epoch 17/250\n",
            "22/22 [==============================] - 0s 1ms/step - loss: 254134.1875\n",
            "Epoch 18/250\n",
            "22/22 [==============================] - 0s 1ms/step - loss: 253788.9531\n",
            "Epoch 19/250\n",
            "22/22 [==============================] - 0s 1ms/step - loss: 253413.6719\n",
            "Epoch 20/250\n",
            "22/22 [==============================] - 0s 1ms/step - loss: 253005.2344\n",
            "Epoch 21/250\n",
            "22/22 [==============================] - 0s 2ms/step - loss: 252566.1250\n",
            "Epoch 22/250\n",
            "22/22 [==============================] - 0s 1ms/step - loss: 252089.9688\n",
            "Epoch 23/250\n",
            "22/22 [==============================] - 0s 1ms/step - loss: 251579.2969\n",
            "Epoch 24/250\n",
            "22/22 [==============================] - 0s 1ms/step - loss: 251031.2656\n",
            "Epoch 25/250\n",
            "22/22 [==============================] - 0s 1ms/step - loss: 250443.5469\n",
            "Epoch 26/250\n",
            "22/22 [==============================] - 0s 1ms/step - loss: 249817.1406\n",
            "Epoch 27/250\n",
            "22/22 [==============================] - 0s 2ms/step - loss: 249148.1406\n",
            "Epoch 28/250\n",
            "22/22 [==============================] - 0s 1ms/step - loss: 248440.3906\n",
            "Epoch 29/250\n",
            "22/22 [==============================] - 0s 1ms/step - loss: 247688.6094\n",
            "Epoch 30/250\n",
            "22/22 [==============================] - 0s 1ms/step - loss: 246892.7500\n",
            "Epoch 31/250\n",
            "22/22 [==============================] - 0s 1ms/step - loss: 246045.2812\n",
            "Epoch 32/250\n",
            "22/22 [==============================] - 0s 1ms/step - loss: 245144.5469\n",
            "Epoch 33/250\n",
            "22/22 [==============================] - 0s 1ms/step - loss: 244189.9219\n",
            "Epoch 34/250\n",
            "22/22 [==============================] - 0s 1ms/step - loss: 243181.4375\n",
            "Epoch 35/250\n",
            "22/22 [==============================] - 0s 1ms/step - loss: 242115.2500\n",
            "Epoch 36/250\n",
            "22/22 [==============================] - 0s 1ms/step - loss: 240983.8438\n",
            "Epoch 37/250\n",
            "22/22 [==============================] - 0s 1ms/step - loss: 239799.0000\n",
            "Epoch 38/250\n",
            "22/22 [==============================] - 0s 1ms/step - loss: 238545.0938\n",
            "Epoch 39/250\n",
            "22/22 [==============================] - 0s 1ms/step - loss: 237231.6406\n",
            "Epoch 40/250\n",
            "22/22 [==============================] - 0s 1ms/step - loss: 235846.7188\n",
            "Epoch 41/250\n",
            "22/22 [==============================] - 0s 1ms/step - loss: 234389.7656\n",
            "Epoch 42/250\n",
            "22/22 [==============================] - 0s 1ms/step - loss: 232858.0312\n",
            "Epoch 43/250\n",
            "22/22 [==============================] - 0s 1ms/step - loss: 231265.0312\n",
            "Epoch 44/250\n",
            "22/22 [==============================] - 0s 1ms/step - loss: 229594.9531\n",
            "Epoch 45/250\n",
            "22/22 [==============================] - 0s 1ms/step - loss: 227838.6094\n",
            "Epoch 46/250\n",
            "22/22 [==============================] - 0s 1ms/step - loss: 226006.7656\n",
            "Epoch 47/250\n",
            "22/22 [==============================] - 0s 1ms/step - loss: 224096.0000\n",
            "Epoch 48/250\n",
            "22/22 [==============================] - 0s 2ms/step - loss: 222109.0469\n",
            "Epoch 49/250\n",
            "22/22 [==============================] - 0s 1ms/step - loss: 220031.8125\n",
            "Epoch 50/250\n",
            "22/22 [==============================] - 0s 1ms/step - loss: 217870.2188\n",
            "Epoch 51/250\n",
            "22/22 [==============================] - 0s 1ms/step - loss: 215631.9375\n",
            "Epoch 52/250\n",
            "22/22 [==============================] - 0s 1ms/step - loss: 213289.3281\n",
            "Epoch 53/250\n",
            "22/22 [==============================] - 0s 2ms/step - loss: 210873.2969\n",
            "Epoch 54/250\n",
            "22/22 [==============================] - 0s 1ms/step - loss: 208361.1250\n",
            "Epoch 55/250\n",
            "22/22 [==============================] - 0s 1ms/step - loss: 205759.0781\n",
            "Epoch 56/250\n",
            "22/22 [==============================] - 0s 1ms/step - loss: 203062.9688\n",
            "Epoch 57/250\n",
            "22/22 [==============================] - 0s 1ms/step - loss: 200277.8906\n",
            "Epoch 58/250\n",
            "22/22 [==============================] - 0s 1ms/step - loss: 197395.7031\n",
            "Epoch 59/250\n",
            "22/22 [==============================] - 0s 1ms/step - loss: 194424.1875\n",
            "Epoch 60/250\n",
            "22/22 [==============================] - 0s 1ms/step - loss: 191365.3438\n",
            "Epoch 61/250\n",
            "22/22 [==============================] - 0s 1ms/step - loss: 188195.0000\n",
            "Epoch 62/250\n",
            "22/22 [==============================] - 0s 1ms/step - loss: 184917.0469\n",
            "Epoch 63/250\n",
            "22/22 [==============================] - 0s 1ms/step - loss: 181569.7031\n",
            "Epoch 64/250\n",
            "22/22 [==============================] - 0s 1ms/step - loss: 178116.8125\n",
            "Epoch 65/250\n",
            "22/22 [==============================] - 0s 1ms/step - loss: 174583.5469\n",
            "Epoch 66/250\n",
            "22/22 [==============================] - 0s 1ms/step - loss: 170963.7188\n",
            "Epoch 67/250\n",
            "22/22 [==============================] - 0s 1ms/step - loss: 167252.1875\n",
            "Epoch 68/250\n",
            "22/22 [==============================] - 0s 1ms/step - loss: 163442.3594\n",
            "Epoch 69/250\n",
            "22/22 [==============================] - 0s 1ms/step - loss: 159539.8906\n",
            "Epoch 70/250\n",
            "22/22 [==============================] - 0s 1ms/step - loss: 155565.7500\n",
            "Epoch 71/250\n",
            "22/22 [==============================] - 0s 2ms/step - loss: 151491.2500\n",
            "Epoch 72/250\n",
            "22/22 [==============================] - 0s 1ms/step - loss: 147335.9688\n",
            "Epoch 73/250\n",
            "22/22 [==============================] - 0s 1ms/step - loss: 143108.2344\n",
            "Epoch 74/250\n",
            "22/22 [==============================] - 0s 1ms/step - loss: 138788.5312\n",
            "Epoch 75/250\n",
            "22/22 [==============================] - 0s 2ms/step - loss: 134421.4844\n",
            "Epoch 76/250\n",
            "22/22 [==============================] - 0s 1ms/step - loss: 129989.8750\n",
            "Epoch 77/250\n",
            "22/22 [==============================] - 0s 1ms/step - loss: 125486.7188\n",
            "Epoch 78/250\n",
            "22/22 [==============================] - 0s 1ms/step - loss: 120935.1641\n",
            "Epoch 79/250\n",
            "22/22 [==============================] - 0s 1ms/step - loss: 116314.7188\n",
            "Epoch 80/250\n",
            "22/22 [==============================] - 0s 1ms/step - loss: 111628.4609\n",
            "Epoch 81/250\n",
            "22/22 [==============================] - 0s 1ms/step - loss: 106924.7422\n",
            "Epoch 82/250\n",
            "22/22 [==============================] - 0s 2ms/step - loss: 102190.5938\n",
            "Epoch 83/250\n",
            "22/22 [==============================] - 0s 1ms/step - loss: 97443.0078\n",
            "Epoch 84/250\n",
            "22/22 [==============================] - 0s 1ms/step - loss: 92670.3594\n",
            "Epoch 85/250\n",
            "22/22 [==============================] - 0s 2ms/step - loss: 87860.5000\n",
            "Epoch 86/250\n",
            "22/22 [==============================] - 0s 1ms/step - loss: 83067.7734\n",
            "Epoch 87/250\n",
            "22/22 [==============================] - 0s 1ms/step - loss: 78300.2500\n",
            "Epoch 88/250\n",
            "22/22 [==============================] - 0s 1ms/step - loss: 73504.1953\n",
            "Epoch 89/250\n",
            "22/22 [==============================] - 0s 1ms/step - loss: 68755.2891\n",
            "Epoch 90/250\n",
            "22/22 [==============================] - 0s 1ms/step - loss: 64017.9844\n",
            "Epoch 91/250\n",
            "22/22 [==============================] - 0s 1ms/step - loss: 59388.9492\n",
            "Epoch 92/250\n",
            "22/22 [==============================] - 0s 1ms/step - loss: 54756.7773\n",
            "Epoch 93/250\n",
            "22/22 [==============================] - 0s 1ms/step - loss: 50250.2344\n",
            "Epoch 94/250\n",
            "22/22 [==============================] - 0s 1ms/step - loss: 45843.4961\n",
            "Epoch 95/250\n",
            "22/22 [==============================] - 0s 1ms/step - loss: 41554.8672\n",
            "Epoch 96/250\n",
            "22/22 [==============================] - 0s 1ms/step - loss: 37348.3906\n",
            "Epoch 97/250\n",
            "22/22 [==============================] - 0s 1ms/step - loss: 33295.5898\n",
            "Epoch 98/250\n",
            "22/22 [==============================] - 0s 1ms/step - loss: 29411.5449\n",
            "Epoch 99/250\n",
            "22/22 [==============================] - 0s 1ms/step - loss: 25698.3105\n",
            "Epoch 100/250\n",
            "22/22 [==============================] - 0s 1ms/step - loss: 22179.5488\n",
            "Epoch 101/250\n",
            "22/22 [==============================] - 0s 1ms/step - loss: 18837.8809\n",
            "Epoch 102/250\n",
            "22/22 [==============================] - 0s 2ms/step - loss: 15775.0244\n",
            "Epoch 103/250\n",
            "22/22 [==============================] - 0s 2ms/step - loss: 12949.2461\n",
            "Epoch 104/250\n",
            "22/22 [==============================] - 0s 1ms/step - loss: 10391.8193\n",
            "Epoch 105/250\n",
            "22/22 [==============================] - 0s 1ms/step - loss: 8149.5342\n",
            "Epoch 106/250\n",
            "22/22 [==============================] - 0s 1ms/step - loss: 6221.3530\n",
            "Epoch 107/250\n",
            "22/22 [==============================] - 0s 1ms/step - loss: 4602.2734\n",
            "Epoch 108/250\n",
            "22/22 [==============================] - 0s 1ms/step - loss: 3342.2190\n",
            "Epoch 109/250\n",
            "22/22 [==============================] - 0s 1ms/step - loss: 2451.3347\n",
            "Epoch 110/250\n",
            "22/22 [==============================] - 0s 1ms/step - loss: 1906.8276\n",
            "Epoch 111/250\n",
            "22/22 [==============================] - 0s 1ms/step - loss: 1650.2716\n",
            "Epoch 112/250\n",
            "22/22 [==============================] - 0s 1ms/step - loss: 1575.1743\n",
            "Epoch 113/250\n",
            "22/22 [==============================] - 0s 1ms/step - loss: 1550.4575\n",
            "Epoch 114/250\n",
            "22/22 [==============================] - 0s 1ms/step - loss: 1525.1169\n",
            "Epoch 115/250\n",
            "22/22 [==============================] - 0s 1ms/step - loss: 1503.5267\n",
            "Epoch 116/250\n",
            "22/22 [==============================] - 0s 1ms/step - loss: 1482.9020\n",
            "Epoch 117/250\n",
            "22/22 [==============================] - 0s 2ms/step - loss: 1459.7389\n",
            "Epoch 118/250\n",
            "22/22 [==============================] - 0s 1ms/step - loss: 1439.3096\n",
            "Epoch 119/250\n",
            "22/22 [==============================] - 0s 1ms/step - loss: 1416.5006\n",
            "Epoch 120/250\n",
            "22/22 [==============================] - 0s 1ms/step - loss: 1393.3446\n",
            "Epoch 121/250\n",
            "22/22 [==============================] - 0s 1ms/step - loss: 1374.8141\n",
            "Epoch 122/250\n",
            "22/22 [==============================] - 0s 1ms/step - loss: 1349.5624\n",
            "Epoch 123/250\n",
            "22/22 [==============================] - 0s 1ms/step - loss: 1328.2013\n",
            "Epoch 124/250\n",
            "22/22 [==============================] - 0s 1ms/step - loss: 1305.1926\n",
            "Epoch 125/250\n",
            "22/22 [==============================] - 0s 1ms/step - loss: 1284.1204\n",
            "Epoch 126/250\n",
            "22/22 [==============================] - 0s 1ms/step - loss: 1262.6880\n",
            "Epoch 127/250\n",
            "22/22 [==============================] - 0s 2ms/step - loss: 1242.2820\n",
            "Epoch 128/250\n",
            "22/22 [==============================] - 0s 1ms/step - loss: 1218.3080\n",
            "Epoch 129/250\n",
            "22/22 [==============================] - 0s 2ms/step - loss: 1199.5497\n",
            "Epoch 130/250\n",
            "22/22 [==============================] - 0s 1ms/step - loss: 1179.1953\n",
            "Epoch 131/250\n",
            "22/22 [==============================] - 0s 1ms/step - loss: 1157.2740\n",
            "Epoch 132/250\n",
            "22/22 [==============================] - 0s 1ms/step - loss: 1137.8732\n",
            "Epoch 133/250\n",
            "22/22 [==============================] - 0s 1ms/step - loss: 1116.1965\n",
            "Epoch 134/250\n",
            "22/22 [==============================] - 0s 1ms/step - loss: 1093.3639\n",
            "Epoch 135/250\n",
            "22/22 [==============================] - 0s 2ms/step - loss: 1074.6512\n",
            "Epoch 136/250\n",
            "22/22 [==============================] - 0s 2ms/step - loss: 1054.5804\n",
            "Epoch 137/250\n",
            "22/22 [==============================] - 0s 1ms/step - loss: 1034.6654\n",
            "Epoch 138/250\n",
            "22/22 [==============================] - 0s 1ms/step - loss: 1015.7365\n",
            "Epoch 139/250\n",
            "22/22 [==============================] - 0s 1ms/step - loss: 994.8721\n",
            "Epoch 140/250\n",
            "22/22 [==============================] - 0s 1ms/step - loss: 974.8621\n",
            "Epoch 141/250\n",
            "22/22 [==============================] - 0s 1ms/step - loss: 954.3354\n",
            "Epoch 142/250\n",
            "22/22 [==============================] - 0s 1ms/step - loss: 935.2399\n",
            "Epoch 143/250\n",
            "22/22 [==============================] - 0s 1ms/step - loss: 915.5175\n",
            "Epoch 144/250\n",
            "22/22 [==============================] - 0s 1ms/step - loss: 895.4731\n",
            "Epoch 145/250\n",
            "22/22 [==============================] - 0s 1ms/step - loss: 876.5395\n",
            "Epoch 146/250\n",
            "22/22 [==============================] - 0s 1ms/step - loss: 854.6761\n",
            "Epoch 147/250\n",
            "22/22 [==============================] - 0s 1ms/step - loss: 837.1246\n",
            "Epoch 148/250\n",
            "22/22 [==============================] - 0s 2ms/step - loss: 816.1063\n",
            "Epoch 149/250\n",
            "22/22 [==============================] - 0s 1ms/step - loss: 795.2205\n",
            "Epoch 150/250\n",
            "22/22 [==============================] - 0s 1ms/step - loss: 778.2712\n",
            "Epoch 151/250\n",
            "22/22 [==============================] - 0s 1ms/step - loss: 758.5789\n",
            "Epoch 152/250\n",
            "22/22 [==============================] - 0s 1ms/step - loss: 744.8771\n",
            "Epoch 153/250\n",
            "22/22 [==============================] - 0s 1ms/step - loss: 726.2993\n",
            "Epoch 154/250\n",
            "22/22 [==============================] - 0s 2ms/step - loss: 708.5577\n",
            "Epoch 155/250\n",
            "22/22 [==============================] - 0s 1ms/step - loss: 691.6924\n",
            "Epoch 156/250\n",
            "22/22 [==============================] - 0s 1ms/step - loss: 676.6854\n",
            "Epoch 157/250\n",
            "22/22 [==============================] - 0s 1ms/step - loss: 657.4067\n",
            "Epoch 158/250\n",
            "22/22 [==============================] - 0s 1ms/step - loss: 644.2280\n",
            "Epoch 159/250\n",
            "22/22 [==============================] - 0s 1ms/step - loss: 626.4882\n",
            "Epoch 160/250\n",
            "22/22 [==============================] - 0s 1ms/step - loss: 611.6713\n",
            "Epoch 161/250\n",
            "22/22 [==============================] - 0s 2ms/step - loss: 592.8737\n",
            "Epoch 162/250\n",
            "22/22 [==============================] - 0s 2ms/step - loss: 575.5605\n",
            "Epoch 163/250\n",
            "22/22 [==============================] - 0s 1ms/step - loss: 560.3458\n",
            "Epoch 164/250\n",
            "22/22 [==============================] - 0s 1ms/step - loss: 542.2139\n",
            "Epoch 165/250\n",
            "22/22 [==============================] - 0s 1ms/step - loss: 528.7239\n",
            "Epoch 166/250\n",
            "22/22 [==============================] - 0s 1ms/step - loss: 511.7354\n",
            "Epoch 167/250\n",
            "22/22 [==============================] - 0s 1ms/step - loss: 498.3718\n",
            "Epoch 168/250\n",
            "22/22 [==============================] - 0s 2ms/step - loss: 482.8775\n",
            "Epoch 169/250\n",
            "22/22 [==============================] - 0s 1ms/step - loss: 469.2142\n",
            "Epoch 170/250\n",
            "22/22 [==============================] - 0s 2ms/step - loss: 456.3867\n",
            "Epoch 171/250\n",
            "22/22 [==============================] - 0s 1ms/step - loss: 442.9030\n",
            "Epoch 172/250\n",
            "22/22 [==============================] - 0s 1ms/step - loss: 428.9503\n",
            "Epoch 173/250\n",
            "22/22 [==============================] - 0s 1ms/step - loss: 413.6638\n",
            "Epoch 174/250\n",
            "22/22 [==============================] - 0s 1ms/step - loss: 401.7051\n",
            "Epoch 175/250\n",
            "22/22 [==============================] - 0s 1ms/step - loss: 388.9676\n",
            "Epoch 176/250\n",
            "22/22 [==============================] - 0s 1ms/step - loss: 375.7728\n",
            "Epoch 177/250\n",
            "22/22 [==============================] - 0s 1ms/step - loss: 363.9325\n",
            "Epoch 178/250\n",
            "22/22 [==============================] - 0s 2ms/step - loss: 350.5573\n",
            "Epoch 179/250\n",
            "22/22 [==============================] - 0s 1ms/step - loss: 338.4403\n",
            "Epoch 180/250\n",
            "22/22 [==============================] - 0s 1ms/step - loss: 325.0969\n",
            "Epoch 181/250\n",
            "22/22 [==============================] - 0s 2ms/step - loss: 311.8758\n",
            "Epoch 182/250\n",
            "22/22 [==============================] - 0s 1ms/step - loss: 298.9757\n",
            "Epoch 183/250\n",
            "22/22 [==============================] - 0s 2ms/step - loss: 287.9414\n",
            "Epoch 184/250\n",
            "22/22 [==============================] - 0s 1ms/step - loss: 275.7283\n",
            "Epoch 185/250\n",
            "22/22 [==============================] - 0s 1ms/step - loss: 263.5623\n",
            "Epoch 186/250\n",
            "22/22 [==============================] - 0s 1ms/step - loss: 251.6306\n",
            "Epoch 187/250\n",
            "22/22 [==============================] - 0s 1ms/step - loss: 240.6535\n",
            "Epoch 188/250\n",
            "22/22 [==============================] - 0s 1ms/step - loss: 232.2547\n",
            "Epoch 189/250\n",
            "22/22 [==============================] - 0s 1ms/step - loss: 221.9745\n",
            "Epoch 190/250\n",
            "22/22 [==============================] - 0s 1ms/step - loss: 212.3314\n",
            "Epoch 191/250\n",
            "22/22 [==============================] - 0s 1ms/step - loss: 203.0298\n",
            "Epoch 192/250\n",
            "22/22 [==============================] - 0s 1ms/step - loss: 193.6950\n",
            "Epoch 193/250\n",
            "22/22 [==============================] - 0s 2ms/step - loss: 183.8654\n",
            "Epoch 194/250\n",
            "22/22 [==============================] - 0s 1ms/step - loss: 175.4600\n",
            "Epoch 195/250\n",
            "22/22 [==============================] - 0s 1ms/step - loss: 165.4251\n",
            "Epoch 196/250\n",
            "22/22 [==============================] - 0s 1ms/step - loss: 156.7794\n",
            "Epoch 197/250\n",
            "22/22 [==============================] - 0s 2ms/step - loss: 149.2648\n",
            "Epoch 198/250\n",
            "22/22 [==============================] - 0s 1ms/step - loss: 142.6199\n",
            "Epoch 199/250\n",
            "22/22 [==============================] - 0s 1ms/step - loss: 136.4491\n",
            "Epoch 200/250\n",
            "22/22 [==============================] - 0s 1ms/step - loss: 129.2730\n",
            "Epoch 201/250\n",
            "22/22 [==============================] - 0s 1ms/step - loss: 122.4432\n",
            "Epoch 202/250\n",
            "22/22 [==============================] - 0s 1ms/step - loss: 116.7983\n",
            "Epoch 203/250\n",
            "22/22 [==============================] - 0s 1ms/step - loss: 109.2127\n",
            "Epoch 204/250\n",
            "22/22 [==============================] - 0s 1ms/step - loss: 103.3751\n",
            "Epoch 205/250\n",
            "22/22 [==============================] - 0s 1ms/step - loss: 97.5947\n",
            "Epoch 206/250\n",
            "22/22 [==============================] - 0s 1ms/step - loss: 91.6757\n",
            "Epoch 207/250\n",
            "22/22 [==============================] - 0s 2ms/step - loss: 85.7161\n",
            "Epoch 208/250\n",
            "22/22 [==============================] - 0s 1ms/step - loss: 80.2467\n",
            "Epoch 209/250\n",
            "22/22 [==============================] - 0s 1ms/step - loss: 75.2174\n",
            "Epoch 210/250\n",
            "22/22 [==============================] - 0s 1ms/step - loss: 71.2863\n",
            "Epoch 211/250\n",
            "22/22 [==============================] - 0s 1ms/step - loss: 67.0184\n",
            "Epoch 212/250\n",
            "22/22 [==============================] - 0s 1ms/step - loss: 63.6300\n",
            "Epoch 213/250\n",
            "22/22 [==============================] - 0s 1ms/step - loss: 60.7992\n",
            "Epoch 214/250\n",
            "22/22 [==============================] - 0s 1ms/step - loss: 56.8794\n",
            "Epoch 215/250\n",
            "22/22 [==============================] - 0s 1ms/step - loss: 54.2055\n",
            "Epoch 216/250\n",
            "22/22 [==============================] - 0s 1ms/step - loss: 50.9621\n",
            "Epoch 217/250\n",
            "22/22 [==============================] - 0s 1ms/step - loss: 48.1788\n",
            "Epoch 218/250\n",
            "22/22 [==============================] - 0s 1ms/step - loss: 45.0109\n",
            "Epoch 219/250\n",
            "22/22 [==============================] - 0s 1ms/step - loss: 43.0156\n",
            "Epoch 220/250\n",
            "22/22 [==============================] - 0s 1ms/step - loss: 40.5007\n",
            "Epoch 221/250\n",
            "22/22 [==============================] - 0s 1ms/step - loss: 38.8314\n",
            "Epoch 222/250\n",
            "22/22 [==============================] - 0s 1ms/step - loss: 37.1083\n",
            "Epoch 223/250\n",
            "22/22 [==============================] - 0s 1ms/step - loss: 36.1541\n",
            "Epoch 224/250\n",
            "22/22 [==============================] - 0s 1ms/step - loss: 34.2349\n",
            "Epoch 225/250\n",
            "22/22 [==============================] - 0s 1ms/step - loss: 33.1738\n",
            "Epoch 226/250\n",
            "22/22 [==============================] - 0s 2ms/step - loss: 31.9196\n",
            "Epoch 227/250\n",
            "22/22 [==============================] - 0s 1ms/step - loss: 30.6650\n",
            "Epoch 228/250\n",
            "22/22 [==============================] - 0s 1ms/step - loss: 29.7981\n",
            "Epoch 229/250\n",
            "22/22 [==============================] - 0s 1ms/step - loss: 28.7569\n",
            "Epoch 230/250\n",
            "22/22 [==============================] - 0s 2ms/step - loss: 27.8918\n",
            "Epoch 231/250\n",
            "22/22 [==============================] - 0s 1ms/step - loss: 27.8327\n",
            "Epoch 232/250\n",
            "22/22 [==============================] - 0s 1ms/step - loss: 27.2178\n",
            "Epoch 233/250\n",
            "22/22 [==============================] - 0s 2ms/step - loss: 26.5559\n",
            "Epoch 234/250\n",
            "22/22 [==============================] - 0s 1ms/step - loss: 26.3532\n",
            "Epoch 235/250\n",
            "22/22 [==============================] - 0s 1ms/step - loss: 25.9852\n",
            "Epoch 236/250\n",
            "22/22 [==============================] - 0s 1ms/step - loss: 25.5815\n",
            "Epoch 237/250\n",
            "22/22 [==============================] - 0s 2ms/step - loss: 25.3045\n",
            "Epoch 238/250\n",
            "22/22 [==============================] - 0s 1ms/step - loss: 25.2487\n",
            "Epoch 239/250\n",
            "22/22 [==============================] - 0s 1ms/step - loss: 24.9805\n",
            "Epoch 240/250\n",
            "22/22 [==============================] - 0s 1ms/step - loss: 24.9385\n",
            "Epoch 241/250\n",
            "22/22 [==============================] - 0s 1ms/step - loss: 24.9667\n",
            "Epoch 242/250\n",
            "22/22 [==============================] - 0s 1ms/step - loss: 24.8389\n",
            "Epoch 243/250\n",
            "22/22 [==============================] - 0s 1ms/step - loss: 24.6364\n",
            "Epoch 244/250\n",
            "22/22 [==============================] - 0s 1ms/step - loss: 24.4485\n",
            "Epoch 245/250\n",
            "22/22 [==============================] - 0s 1ms/step - loss: 24.8132\n",
            "Epoch 246/250\n",
            "22/22 [==============================] - 0s 1ms/step - loss: 24.5209\n",
            "Epoch 247/250\n",
            "22/22 [==============================] - 0s 1ms/step - loss: 24.2632\n",
            "Epoch 248/250\n",
            "22/22 [==============================] - 0s 1ms/step - loss: 24.7295\n",
            "Epoch 249/250\n",
            "22/22 [==============================] - 0s 1ms/step - loss: 24.2732\n",
            "Epoch 250/250\n",
            "22/22 [==============================] - 0s 1ms/step - loss: 24.3959\n"
          ]
        },
        {
          "output_type": "execute_result",
          "data": {
            "text/plain": [
              "<keras.callbacks.History at 0x7f16777901d0>"
            ]
          },
          "metadata": {},
          "execution_count": 80
        }
      ],
      "source": [
        "model.fit(x = X_train, y = y_train, batch_size = 32, epochs = 250) # her seferinde 32 örnek işleme geçer\n",
        "                                                                    # 700/32 = 21.75=22 iterasyon var."
      ]
    },
    {
      "cell_type": "code",
      "execution_count": 70,
      "metadata": {
        "id": "lKvGnUrW-4_f",
        "outputId": "ca073deb-b475-4f33-de51-c7a2d8dac9e1",
        "colab": {
          "base_uri": "https://localhost:8080/"
        }
      },
      "outputs": [
        {
          "output_type": "stream",
          "name": "stdout",
          "text": [
            "Model: \"sequential_1\"\n",
            "_________________________________________________________________\n",
            " Layer (type)                Output Shape              Param #   \n",
            "=================================================================\n",
            " dense_4 (Dense)             (None, 4)                 12        \n",
            "                                                                 \n",
            " dense_5 (Dense)             (None, 4)                 20        \n",
            "                                                                 \n",
            " dense_6 (Dense)             (None, 4)                 20        \n",
            "                                                                 \n",
            " dense_7 (Dense)             (None, 1)                 5         \n",
            "                                                                 \n",
            "=================================================================\n",
            "Total params: 57\n",
            "Trainable params: 57\n",
            "Non-trainable params: 0\n",
            "_________________________________________________________________\n"
          ]
        }
      ],
      "source": [
        "model.summary()"
      ]
    },
    {
      "cell_type": "code",
      "execution_count": 71,
      "metadata": {
        "id": "QlHK_gYb-4_f",
        "outputId": "3e7da296-7f7c-4293-ebc0-d4d95573256d",
        "colab": {
          "base_uri": "https://localhost:8080/"
        }
      },
      "outputs": [
        {
          "output_type": "execute_result",
          "data": {
            "text/plain": [
              "[<tf.Variable 'dense_4/kernel:0' shape=(2, 4) dtype=float32, numpy=\n",
              " array([[ 2.1307576 ,  2.9411843 , -1.0085992 , -0.6208787 ],\n",
              "        [ 5.291772  ,  4.956908  ,  0.2711184 , -0.46075892]],\n",
              "       dtype=float32)>,\n",
              " <tf.Variable 'dense_4/bias:0' shape=(4,) dtype=float32, numpy=array([ 1.0446181 ,  1.0336883 , -0.13882263,  0.        ], dtype=float32)>,\n",
              " <tf.Variable 'dense_5/kernel:0' shape=(4, 4) dtype=float32, numpy=\n",
              " array([[ 0.1677626 , -0.18886875,  3.706915  , -0.54376054],\n",
              "        [-0.50056267,  0.18912286,  3.5066297 , -0.5942428 ],\n",
              "        [ 0.11744003,  0.09227919, -0.49421903,  0.11281115],\n",
              "        [-0.19875884,  0.13317943,  0.85710293, -0.31631672]],\n",
              "       dtype=float32)>,\n",
              " <tf.Variable 'dense_5/bias:0' shape=(4,) dtype=float32, numpy=array([-0.03458397, -0.1602349 ,  1.0468953 ,  0.        ], dtype=float32)>,\n",
              " <tf.Variable 'dense_6/kernel:0' shape=(4, 4) dtype=float32, numpy=\n",
              " array([[-4.0004671e-01, -3.0952257e-01, -2.6118425e-01, -3.3951935e-01],\n",
              "        [ 4.2296347e-01,  1.7379993e-01, -5.0667769e-01,  2.3465440e-01],\n",
              "        [ 1.2672018e-02, -6.3372850e-01,  3.5889375e+00,  3.4775021e-03],\n",
              "        [-4.5316041e-02, -8.5794699e-01, -6.0960233e-01, -5.5972570e-01]],\n",
              "       dtype=float32)>,\n",
              " <tf.Variable 'dense_6/bias:0' shape=(4,) dtype=float32, numpy=array([-0.82493675,  0.        ,  1.1646329 , -0.21440408], dtype=float32)>,\n",
              " <tf.Variable 'dense_7/kernel:0' shape=(4, 1) dtype=float32, numpy=\n",
              " array([[-0.19736533],\n",
              "        [-0.5641839 ],\n",
              "        [ 3.7174082 ],\n",
              "        [-0.21943903]], dtype=float32)>,\n",
              " <tf.Variable 'dense_7/bias:0' shape=(1,) dtype=float32, numpy=array([1.1458327], dtype=float32)>]"
            ]
          },
          "metadata": {},
          "execution_count": 71
        }
      ],
      "source": [
        "model.weights"
      ]
    },
    {
      "cell_type": "code",
      "execution_count": 72,
      "metadata": {
        "id": "DLzY4xE3-4_g",
        "outputId": "2423e6ea-dd73-4713-9f47-2c6adadb470c",
        "colab": {
          "base_uri": "https://localhost:8080/"
        }
      },
      "outputs": [
        {
          "output_type": "execute_result",
          "data": {
            "text/plain": [
              "{'loss': [133.81268310546875,\n",
              "  126.49187469482422,\n",
              "  119.6229248046875,\n",
              "  113.77935028076172,\n",
              "  108.87052154541016,\n",
              "  103.7121353149414,\n",
              "  99.35292053222656,\n",
              "  94.5188980102539,\n",
              "  89.87899017333984,\n",
              "  85.46088409423828,\n",
              "  81.44384765625,\n",
              "  76.8927993774414,\n",
              "  72.72543334960938,\n",
              "  68.8882827758789,\n",
              "  64.94100189208984,\n",
              "  62.56147384643555,\n",
              "  59.241485595703125,\n",
              "  56.07683181762695,\n",
              "  53.1112174987793,\n",
              "  50.29816436767578,\n",
              "  48.1212272644043,\n",
              "  45.84355545043945,\n",
              "  43.50235366821289,\n",
              "  41.555030822753906,\n",
              "  40.017181396484375,\n",
              "  37.39320755004883,\n",
              "  36.57138442993164,\n",
              "  35.31140899658203,\n",
              "  33.85300064086914,\n",
              "  32.59660720825195,\n",
              "  31.88009262084961,\n",
              "  30.598766326904297,\n",
              "  29.88654899597168,\n",
              "  29.083477020263672,\n",
              "  28.191640853881836,\n",
              "  27.87506103515625,\n",
              "  27.519929885864258,\n",
              "  27.258037567138672,\n",
              "  26.63677978515625,\n",
              "  26.239904403686523,\n",
              "  26.0967960357666,\n",
              "  25.772201538085938,\n",
              "  25.524553298950195,\n",
              "  25.422748565673828,\n",
              "  24.961816787719727,\n",
              "  24.809280395507812,\n",
              "  24.837108612060547,\n",
              "  24.98381996154785,\n",
              "  25.059677124023438,\n",
              "  24.537309646606445,\n",
              "  24.767589569091797,\n",
              "  24.742874145507812,\n",
              "  24.537622451782227,\n",
              "  24.774009704589844,\n",
              "  24.290477752685547,\n",
              "  24.53530502319336,\n",
              "  24.178348541259766,\n",
              "  24.306169509887695,\n",
              "  23.970569610595703,\n",
              "  24.185028076171875,\n",
              "  24.661701202392578,\n",
              "  24.3187313079834,\n",
              "  24.005937576293945,\n",
              "  24.21674919128418,\n",
              "  24.178823471069336,\n",
              "  24.08160972595215,\n",
              "  24.187429428100586,\n",
              "  24.095321655273438,\n",
              "  23.908262252807617,\n",
              "  24.10698127746582,\n",
              "  24.10308837890625,\n",
              "  23.956754684448242,\n",
              "  24.145177841186523,\n",
              "  24.12575340270996,\n",
              "  24.173694610595703,\n",
              "  24.224538803100586,\n",
              "  24.280527114868164,\n",
              "  24.084386825561523,\n",
              "  23.81635284423828,\n",
              "  24.15091323852539,\n",
              "  24.01638412475586,\n",
              "  24.222444534301758,\n",
              "  23.832687377929688,\n",
              "  24.228546142578125,\n",
              "  23.773786544799805,\n",
              "  24.245607376098633,\n",
              "  23.953758239746094,\n",
              "  24.146183013916016,\n",
              "  23.986242294311523,\n",
              "  23.995140075683594,\n",
              "  24.198139190673828,\n",
              "  24.304977416992188,\n",
              "  24.09858512878418,\n",
              "  24.033527374267578,\n",
              "  23.94271469116211,\n",
              "  24.088565826416016,\n",
              "  23.96061134338379,\n",
              "  23.932449340820312,\n",
              "  24.086618423461914,\n",
              "  24.28711700439453,\n",
              "  23.874530792236328,\n",
              "  24.08869171142578,\n",
              "  24.129737854003906,\n",
              "  24.096874237060547,\n",
              "  23.889659881591797,\n",
              "  23.788976669311523,\n",
              "  23.886232376098633,\n",
              "  24.204933166503906,\n",
              "  23.979656219482422,\n",
              "  24.11113929748535,\n",
              "  23.929622650146484,\n",
              "  24.23141098022461,\n",
              "  24.29768943786621,\n",
              "  24.2396183013916,\n",
              "  23.904207229614258,\n",
              "  24.12315559387207,\n",
              "  24.047237396240234,\n",
              "  24.090373992919922,\n",
              "  24.1782169342041,\n",
              "  23.946748733520508,\n",
              "  24.091434478759766,\n",
              "  23.841176986694336,\n",
              "  24.02482795715332,\n",
              "  23.89322853088379,\n",
              "  23.872329711914062,\n",
              "  24.103179931640625,\n",
              "  24.15504264831543,\n",
              "  24.140268325805664,\n",
              "  24.316370010375977,\n",
              "  24.032285690307617,\n",
              "  24.041540145874023,\n",
              "  24.084184646606445,\n",
              "  23.929025650024414,\n",
              "  24.08805274963379,\n",
              "  24.25853729248047,\n",
              "  24.163660049438477,\n",
              "  23.939651489257812,\n",
              "  24.060346603393555,\n",
              "  24.23778533935547,\n",
              "  24.058393478393555,\n",
              "  24.07834815979004,\n",
              "  24.132925033569336,\n",
              "  23.970840454101562,\n",
              "  23.98702621459961,\n",
              "  24.079782485961914,\n",
              "  24.04041862487793,\n",
              "  23.90602684020996,\n",
              "  24.07669448852539,\n",
              "  24.246423721313477,\n",
              "  23.99652671813965,\n",
              "  24.090314865112305,\n",
              "  24.03390884399414,\n",
              "  24.269271850585938,\n",
              "  24.20057487487793,\n",
              "  23.817214965820312,\n",
              "  23.935932159423828,\n",
              "  24.000783920288086,\n",
              "  24.287633895874023,\n",
              "  24.01926612854004,\n",
              "  24.368688583374023,\n",
              "  24.203311920166016,\n",
              "  24.04281234741211,\n",
              "  24.122806549072266,\n",
              "  24.089017868041992,\n",
              "  24.163225173950195,\n",
              "  24.19443702697754,\n",
              "  24.174243927001953,\n",
              "  23.99563980102539,\n",
              "  24.27318572998047,\n",
              "  24.066911697387695,\n",
              "  23.97722625732422,\n",
              "  24.24009132385254,\n",
              "  24.17739486694336,\n",
              "  24.128223419189453,\n",
              "  24.32496452331543,\n",
              "  23.97988510131836,\n",
              "  24.01247787475586,\n",
              "  24.1841983795166,\n",
              "  24.090017318725586,\n",
              "  24.290327072143555,\n",
              "  24.172489166259766,\n",
              "  24.15113067626953,\n",
              "  23.871068954467773,\n",
              "  24.00390625,\n",
              "  24.068662643432617,\n",
              "  23.970552444458008,\n",
              "  24.1021728515625,\n",
              "  24.071727752685547,\n",
              "  24.203765869140625,\n",
              "  24.090818405151367,\n",
              "  24.012516021728516,\n",
              "  24.034852981567383,\n",
              "  24.244163513183594,\n",
              "  23.984575271606445,\n",
              "  23.965435028076172,\n",
              "  23.97304344177246,\n",
              "  24.0062255859375,\n",
              "  24.01913833618164,\n",
              "  24.061992645263672,\n",
              "  24.40327262878418,\n",
              "  24.156513214111328,\n",
              "  24.064367294311523,\n",
              "  23.671916961669922,\n",
              "  23.986610412597656,\n",
              "  24.022544860839844,\n",
              "  24.119491577148438,\n",
              "  24.2147159576416,\n",
              "  24.19234848022461,\n",
              "  23.98052978515625,\n",
              "  23.958412170410156,\n",
              "  24.039453506469727,\n",
              "  24.130809783935547,\n",
              "  23.937162399291992,\n",
              "  24.1220703125,\n",
              "  23.908987045288086,\n",
              "  24.280609130859375,\n",
              "  23.990232467651367,\n",
              "  23.92047119140625,\n",
              "  23.7901554107666,\n",
              "  24.007587432861328,\n",
              "  24.30181312561035,\n",
              "  24.23859977722168,\n",
              "  24.038928985595703,\n",
              "  24.254568099975586,\n",
              "  24.076709747314453,\n",
              "  24.232772827148438,\n",
              "  24.287254333496094,\n",
              "  24.14093780517578,\n",
              "  24.084287643432617,\n",
              "  24.13515853881836,\n",
              "  24.0644588470459,\n",
              "  23.954410552978516,\n",
              "  23.98308563232422,\n",
              "  24.157255172729492,\n",
              "  23.974903106689453,\n",
              "  24.09335708618164,\n",
              "  24.00585174560547,\n",
              "  24.24309730529785,\n",
              "  24.100048065185547,\n",
              "  23.897733688354492,\n",
              "  24.09503936767578,\n",
              "  24.194801330566406,\n",
              "  24.43169593811035,\n",
              "  24.222349166870117,\n",
              "  23.95060920715332,\n",
              "  24.22813606262207,\n",
              "  24.360666275024414,\n",
              "  24.119497299194336,\n",
              "  23.835556030273438,\n",
              "  24.423736572265625]}"
            ]
          },
          "metadata": {},
          "execution_count": 72
        }
      ],
      "source": [
        "model.history.history"
      ]
    },
    {
      "cell_type": "code",
      "execution_count": 73,
      "metadata": {
        "id": "hny46Vcz-4_g",
        "outputId": "8abfe2dc-6fdd-4ab9-910d-f831723c7b76",
        "colab": {
          "base_uri": "https://localhost:8080/",
          "height": 424
        }
      },
      "outputs": [
        {
          "output_type": "execute_result",
          "data": {
            "text/plain": [
              "       loss\n",
              "0   133.813\n",
              "1   126.492\n",
              "2   119.623\n",
              "3   113.779\n",
              "4   108.871\n",
              "..      ...\n",
              "245  24.228\n",
              "246  24.361\n",
              "247  24.119\n",
              "248  23.836\n",
              "249  24.424\n",
              "\n",
              "[250 rows x 1 columns]"
            ],
            "text/html": [
              "\n",
              "  <div id=\"df-fb536975-ed05-47fc-b485-868aaf805d4c\">\n",
              "    <div class=\"colab-df-container\">\n",
              "      <div>\n",
              "<style scoped>\n",
              "    .dataframe tbody tr th:only-of-type {\n",
              "        vertical-align: middle;\n",
              "    }\n",
              "\n",
              "    .dataframe tbody tr th {\n",
              "        vertical-align: top;\n",
              "    }\n",
              "\n",
              "    .dataframe thead th {\n",
              "        text-align: right;\n",
              "    }\n",
              "</style>\n",
              "<table border=\"1\" class=\"dataframe\">\n",
              "  <thead>\n",
              "    <tr style=\"text-align: right;\">\n",
              "      <th></th>\n",
              "      <th>loss</th>\n",
              "    </tr>\n",
              "  </thead>\n",
              "  <tbody>\n",
              "    <tr>\n",
              "      <th>0</th>\n",
              "      <td>133.813</td>\n",
              "    </tr>\n",
              "    <tr>\n",
              "      <th>1</th>\n",
              "      <td>126.492</td>\n",
              "    </tr>\n",
              "    <tr>\n",
              "      <th>2</th>\n",
              "      <td>119.623</td>\n",
              "    </tr>\n",
              "    <tr>\n",
              "      <th>3</th>\n",
              "      <td>113.779</td>\n",
              "    </tr>\n",
              "    <tr>\n",
              "      <th>4</th>\n",
              "      <td>108.871</td>\n",
              "    </tr>\n",
              "    <tr>\n",
              "      <th>...</th>\n",
              "      <td>...</td>\n",
              "    </tr>\n",
              "    <tr>\n",
              "      <th>245</th>\n",
              "      <td>24.228</td>\n",
              "    </tr>\n",
              "    <tr>\n",
              "      <th>246</th>\n",
              "      <td>24.361</td>\n",
              "    </tr>\n",
              "    <tr>\n",
              "      <th>247</th>\n",
              "      <td>24.119</td>\n",
              "    </tr>\n",
              "    <tr>\n",
              "      <th>248</th>\n",
              "      <td>23.836</td>\n",
              "    </tr>\n",
              "    <tr>\n",
              "      <th>249</th>\n",
              "      <td>24.424</td>\n",
              "    </tr>\n",
              "  </tbody>\n",
              "</table>\n",
              "<p>250 rows × 1 columns</p>\n",
              "</div>\n",
              "      <button class=\"colab-df-convert\" onclick=\"convertToInteractive('df-fb536975-ed05-47fc-b485-868aaf805d4c')\"\n",
              "              title=\"Convert this dataframe to an interactive table.\"\n",
              "              style=\"display:none;\">\n",
              "        \n",
              "  <svg xmlns=\"http://www.w3.org/2000/svg\" height=\"24px\"viewBox=\"0 0 24 24\"\n",
              "       width=\"24px\">\n",
              "    <path d=\"M0 0h24v24H0V0z\" fill=\"none\"/>\n",
              "    <path d=\"M18.56 5.44l.94 2.06.94-2.06 2.06-.94-2.06-.94-.94-2.06-.94 2.06-2.06.94zm-11 1L8.5 8.5l.94-2.06 2.06-.94-2.06-.94L8.5 2.5l-.94 2.06-2.06.94zm10 10l.94 2.06.94-2.06 2.06-.94-2.06-.94-.94-2.06-.94 2.06-2.06.94z\"/><path d=\"M17.41 7.96l-1.37-1.37c-.4-.4-.92-.59-1.43-.59-.52 0-1.04.2-1.43.59L10.3 9.45l-7.72 7.72c-.78.78-.78 2.05 0 2.83L4 21.41c.39.39.9.59 1.41.59.51 0 1.02-.2 1.41-.59l7.78-7.78 2.81-2.81c.8-.78.8-2.07 0-2.86zM5.41 20L4 18.59l7.72-7.72 1.47 1.35L5.41 20z\"/>\n",
              "  </svg>\n",
              "      </button>\n",
              "      \n",
              "  <style>\n",
              "    .colab-df-container {\n",
              "      display:flex;\n",
              "      flex-wrap:wrap;\n",
              "      gap: 12px;\n",
              "    }\n",
              "\n",
              "    .colab-df-convert {\n",
              "      background-color: #E8F0FE;\n",
              "      border: none;\n",
              "      border-radius: 50%;\n",
              "      cursor: pointer;\n",
              "      display: none;\n",
              "      fill: #1967D2;\n",
              "      height: 32px;\n",
              "      padding: 0 0 0 0;\n",
              "      width: 32px;\n",
              "    }\n",
              "\n",
              "    .colab-df-convert:hover {\n",
              "      background-color: #E2EBFA;\n",
              "      box-shadow: 0px 1px 2px rgba(60, 64, 67, 0.3), 0px 1px 3px 1px rgba(60, 64, 67, 0.15);\n",
              "      fill: #174EA6;\n",
              "    }\n",
              "\n",
              "    [theme=dark] .colab-df-convert {\n",
              "      background-color: #3B4455;\n",
              "      fill: #D2E3FC;\n",
              "    }\n",
              "\n",
              "    [theme=dark] .colab-df-convert:hover {\n",
              "      background-color: #434B5C;\n",
              "      box-shadow: 0px 1px 3px 1px rgba(0, 0, 0, 0.15);\n",
              "      filter: drop-shadow(0px 1px 2px rgba(0, 0, 0, 0.3));\n",
              "      fill: #FFFFFF;\n",
              "    }\n",
              "  </style>\n",
              "\n",
              "      <script>\n",
              "        const buttonEl =\n",
              "          document.querySelector('#df-fb536975-ed05-47fc-b485-868aaf805d4c button.colab-df-convert');\n",
              "        buttonEl.style.display =\n",
              "          google.colab.kernel.accessAllowed ? 'block' : 'none';\n",
              "\n",
              "        async function convertToInteractive(key) {\n",
              "          const element = document.querySelector('#df-fb536975-ed05-47fc-b485-868aaf805d4c');\n",
              "          const dataTable =\n",
              "            await google.colab.kernel.invokeFunction('convertToInteractive',\n",
              "                                                     [key], {});\n",
              "          if (!dataTable) return;\n",
              "\n",
              "          const docLinkHtml = 'Like what you see? Visit the ' +\n",
              "            '<a target=\"_blank\" href=https://colab.research.google.com/notebooks/data_table.ipynb>data table notebook</a>'\n",
              "            + ' to learn more about interactive tables.';\n",
              "          element.innerHTML = '';\n",
              "          dataTable['output_type'] = 'display_data';\n",
              "          await google.colab.output.renderOutput(dataTable, element);\n",
              "          const docLink = document.createElement('div');\n",
              "          docLink.innerHTML = docLinkHtml;\n",
              "          element.appendChild(docLink);\n",
              "        }\n",
              "      </script>\n",
              "    </div>\n",
              "  </div>\n",
              "  "
            ]
          },
          "metadata": {},
          "execution_count": 73
        }
      ],
      "source": [
        "pd.DataFrame(model.history.history)"
      ]
    },
    {
      "cell_type": "code",
      "execution_count": 74,
      "metadata": {
        "id": "yJcbztgB-4_h",
        "outputId": "331c7c11-8b58-48c2-9008-6a36ee249c5a",
        "colab": {
          "base_uri": "https://localhost:8080/",
          "height": 392
        }
      },
      "outputs": [
        {
          "output_type": "execute_result",
          "data": {
            "text/plain": [
              "<matplotlib.axes._subplots.AxesSubplot at 0x7f16770fa050>"
            ]
          },
          "metadata": {},
          "execution_count": 74
        },
        {
          "output_type": "display_data",
          "data": {
            "text/plain": [
              "<Figure size 720x432 with 1 Axes>"
            ],
            "image/png": "[encoded data removed]"
          },
          "metadata": {}
        }
      ],
      "source": [
        "loss_df = pd.DataFrame(model.history.history)\n",
        "loss_df.plot()"
      ]
    },
    {
      "cell_type": "code",
      "execution_count": 75,
      "metadata": {
        "id": "h4CV8Mid-4_h",
        "outputId": "044c25ce-e316-44b9-baf9-c1b54e3fbd78",
        "colab": {
          "base_uri": "https://localhost:8080/",
          "height": 422
        }
      },
      "outputs": [
        {
          "output_type": "execute_result",
          "data": {
            "text/plain": [
              "(0.0, 3000.0)"
            ]
          },
          "metadata": {},
          "execution_count": 75
        },
        {
          "output_type": "display_data",
          "data": {
            "text/plain": [
              "<Figure size 720x432 with 1 Axes>"
            ],
            "image/png": "[encoded data removed]"
          },
          "metadata": {}
        }
      ],
      "source": [
        "fig, ax= plt.subplots()\n",
        "ax.plot(loss_df)\n",
        "ax.set_xlabel(\"epoch\")\n",
        "ax.set_ylabel(\"loss\")\n",
        "ax.set_title(\"loss - epoch graph\")\n",
        "ax.set_xlim([0, 250]) # focusing on the given x values\n",
        "ax.set_ylim([0, 3000]) # focusing on the given y values"
      ]
    },
    {
      "cell_type": "markdown",
      "metadata": {
        "id": "bsmSrzuS-4_h"
      },
      "source": [
        "## Model Performance"
      ]
    },
    {
      "cell_type": "code",
      "execution_count": 44,
      "metadata": {
        "id": "azq9umm9-4_i"
      },
      "outputs": [],
      "source": [
        "from sklearn.metrics import mean_squared_error, mean_absolute_error, r2_score"
      ]
    },
    {
      "cell_type": "code",
      "execution_count": 45,
      "metadata": {
        "id": "nE0puJA8-4_i",
        "outputId": "618063ef-bc00-471b-d7d8-76899d21c084",
        "colab": {
          "base_uri": "https://localhost:8080/"
        }
      },
      "outputs": [
        {
          "output_type": "execute_result",
          "data": {
            "text/plain": [
              "137.97023010253906"
            ]
          },
          "metadata": {},
          "execution_count": 45
        }
      ],
      "source": [
        "model.evaluate(X_train, y_train, verbose=0)"
      ]
    },
    {
      "cell_type": "code",
      "execution_count": 46,
      "metadata": {
        "id": "GRSgl3Vs-4_j",
        "outputId": "812c7f61-1c81-43ff-f575-068c2a0090a0",
        "colab": {
          "base_uri": "https://localhost:8080/"
        }
      },
      "outputs": [
        {
          "output_type": "execute_result",
          "data": {
            "text/plain": [
              "133.7227020263672"
            ]
          },
          "metadata": {},
          "execution_count": 46
        }
      ],
      "source": [
        "model.evaluate(X_test, y_test, verbose=0)"
      ]
    },
    {
      "cell_type": "code",
      "execution_count": 47,
      "metadata": {
        "id": "3HmThgeh-4_j"
      },
      "outputs": [],
      "source": [
        "y_pred = model.predict(X_test)"
      ]
    },
    {
      "cell_type": "code",
      "execution_count": 48,
      "metadata": {
        "id": "BLPDlJS5-4_j",
        "outputId": "a21edc94-612a-48d1-906e-2bb960017e40",
        "colab": {
          "base_uri": "https://localhost:8080/",
          "height": 363
        }
      },
      "outputs": [
        {
          "output_type": "execute_result",
          "data": {
            "text/plain": [
              "     Actual    Pred\n",
              "235 593.668 598.637\n",
              "10  624.247 612.830\n",
              "495 576.893 568.027\n",
              "596 516.986 517.981\n",
              "867 502.902 510.415\n",
              "81  468.357 474.032\n",
              "306 528.129 528.559\n",
              "2   410.297 411.798\n",
              "155 410.538 421.499\n",
              "249 599.924 592.303"
            ],
            "text/html": [
              "\n",
              "  <div id=\"df-cf962652-949b-4d0b-bb8b-1072857fa7c7\">\n",
              "    <div class=\"colab-df-container\">\n",
              "      <div>\n",
              "<style scoped>\n",
              "    .dataframe tbody tr th:only-of-type {\n",
              "        vertical-align: middle;\n",
              "    }\n",
              "\n",
              "    .dataframe tbody tr th {\n",
              "        vertical-align: top;\n",
              "    }\n",
              "\n",
              "    .dataframe thead th {\n",
              "        text-align: right;\n",
              "    }\n",
              "</style>\n",
              "<table border=\"1\" class=\"dataframe\">\n",
              "  <thead>\n",
              "    <tr style=\"text-align: right;\">\n",
              "      <th></th>\n",
              "      <th>Actual</th>\n",
              "      <th>Pred</th>\n",
              "    </tr>\n",
              "  </thead>\n",
              "  <tbody>\n",
              "    <tr>\n",
              "      <th>235</th>\n",
              "      <td>593.668</td>\n",
              "      <td>598.637</td>\n",
              "    </tr>\n",
              "    <tr>\n",
              "      <th>10</th>\n",
              "      <td>624.247</td>\n",
              "      <td>612.830</td>\n",
              "    </tr>\n",
              "    <tr>\n",
              "      <th>495</th>\n",
              "      <td>576.893</td>\n",
              "      <td>568.027</td>\n",
              "    </tr>\n",
              "    <tr>\n",
              "      <th>596</th>\n",
              "      <td>516.986</td>\n",
              "      <td>517.981</td>\n",
              "    </tr>\n",
              "    <tr>\n",
              "      <th>867</th>\n",
              "      <td>502.902</td>\n",
              "      <td>510.415</td>\n",
              "    </tr>\n",
              "    <tr>\n",
              "      <th>81</th>\n",
              "      <td>468.357</td>\n",
              "      <td>474.032</td>\n",
              "    </tr>\n",
              "    <tr>\n",
              "      <th>306</th>\n",
              "      <td>528.129</td>\n",
              "      <td>528.559</td>\n",
              "    </tr>\n",
              "    <tr>\n",
              "      <th>2</th>\n",
              "      <td>410.297</td>\n",
              "      <td>411.798</td>\n",
              "    </tr>\n",
              "    <tr>\n",
              "      <th>155</th>\n",
              "      <td>410.538</td>\n",
              "      <td>421.499</td>\n",
              "    </tr>\n",
              "    <tr>\n",
              "      <th>249</th>\n",
              "      <td>599.924</td>\n",
              "      <td>592.303</td>\n",
              "    </tr>\n",
              "  </tbody>\n",
              "</table>\n",
              "</div>\n",
              "      <button class=\"colab-df-convert\" onclick=\"convertToInteractive('df-cf962652-949b-4d0b-bb8b-1072857fa7c7')\"\n",
              "              title=\"Convert this dataframe to an interactive table.\"\n",
              "              style=\"display:none;\">\n",
              "        \n",
              "  <svg xmlns=\"http://www.w3.org/2000/svg\" height=\"24px\"viewBox=\"0 0 24 24\"\n",
              "       width=\"24px\">\n",
              "    <path d=\"M0 0h24v24H0V0z\" fill=\"none\"/>\n",
              "    <path d=\"M18.56 5.44l.94 2.06.94-2.06 2.06-.94-2.06-.94-.94-2.06-.94 2.06-2.06.94zm-11 1L8.5 8.5l.94-2.06 2.06-.94-2.06-.94L8.5 2.5l-.94 2.06-2.06.94zm10 10l.94 2.06.94-2.06 2.06-.94-2.06-.94-.94-2.06-.94 2.06-2.06.94z\"/><path d=\"M17.41 7.96l-1.37-1.37c-.4-.4-.92-.59-1.43-.59-.52 0-1.04.2-1.43.59L10.3 9.45l-7.72 7.72c-.78.78-.78 2.05 0 2.83L4 21.41c.39.39.9.59 1.41.59.51 0 1.02-.2 1.41-.59l7.78-7.78 2.81-2.81c.8-.78.8-2.07 0-2.86zM5.41 20L4 18.59l7.72-7.72 1.47 1.35L5.41 20z\"/>\n",
              "  </svg>\n",
              "      </button>\n",
              "      \n",
              "  <style>\n",
              "    .colab-df-container {\n",
              "      display:flex;\n",
              "      flex-wrap:wrap;\n",
              "      gap: 12px;\n",
              "    }\n",
              "\n",
              "    .colab-df-convert {\n",
              "      background-color: #E8F0FE;\n",
              "      border: none;\n",
              "      border-radius: 50%;\n",
              "      cursor: pointer;\n",
              "      display: none;\n",
              "      fill: #1967D2;\n",
              "      height: 32px;\n",
              "      padding: 0 0 0 0;\n",
              "      width: 32px;\n",
              "    }\n",
              "\n",
              "    .colab-df-convert:hover {\n",
              "      background-color: #E2EBFA;\n",
              "      box-shadow: 0px 1px 2px rgba(60, 64, 67, 0.3), 0px 1px 3px 1px rgba(60, 64, 67, 0.15);\n",
              "      fill: #174EA6;\n",
              "    }\n",
              "\n",
              "    [theme=dark] .colab-df-convert {\n",
              "      background-color: #3B4455;\n",
              "      fill: #D2E3FC;\n",
              "    }\n",
              "\n",
              "    [theme=dark] .colab-df-convert:hover {\n",
              "      background-color: #434B5C;\n",
              "      box-shadow: 0px 1px 3px 1px rgba(0, 0, 0, 0.15);\n",
              "      filter: drop-shadow(0px 1px 2px rgba(0, 0, 0, 0.3));\n",
              "      fill: #FFFFFF;\n",
              "    }\n",
              "  </style>\n",
              "\n",
              "      <script>\n",
              "        const buttonEl =\n",
              "          document.querySelector('#df-cf962652-949b-4d0b-bb8b-1072857fa7c7 button.colab-df-convert');\n",
              "        buttonEl.style.display =\n",
              "          google.colab.kernel.accessAllowed ? 'block' : 'none';\n",
              "\n",
              "        async function convertToInteractive(key) {\n",
              "          const element = document.querySelector('#df-cf962652-949b-4d0b-bb8b-1072857fa7c7');\n",
              "          const dataTable =\n",
              "            await google.colab.kernel.invokeFunction('convertToInteractive',\n",
              "                                                     [key], {});\n",
              "          if (!dataTable) return;\n",
              "\n",
              "          const docLinkHtml = 'Like what you see? Visit the ' +\n",
              "            '<a target=\"_blank\" href=https://colab.research.google.com/notebooks/data_table.ipynb>data table notebook</a>'\n",
              "            + ' to learn more about interactive tables.';\n",
              "          element.innerHTML = '';\n",
              "          dataTable['output_type'] = 'display_data';\n",
              "          await google.colab.output.renderOutput(dataTable, element);\n",
              "          const docLink = document.createElement('div');\n",
              "          docLink.innerHTML = docLinkHtml;\n",
              "          element.appendChild(docLink);\n",
              "        }\n",
              "      </script>\n",
              "    </div>\n",
              "  </div>\n",
              "  "
            ]
          },
          "metadata": {},
          "execution_count": 48
        }
      ],
      "source": [
        "my_dict = {\"Actual\" : y_test, \"Pred\" : y_pred.reshape(-1,)}\n",
        "compare = pd.DataFrame(my_dict)\n",
        "compare.sample(10)"
      ]
    },
    {
      "cell_type": "code",
      "execution_count": 49,
      "metadata": {
        "id": "f8qLwwMW-4_j",
        "outputId": "e7a8dd1e-3130-4d01-9cc3-ce3738cbffff",
        "colab": {
          "base_uri": "https://localhost:8080/",
          "height": 406
        }
      },
      "outputs": [
        {
          "output_type": "execute_result",
          "data": {
            "text/plain": [
              "<matplotlib.axes._subplots.AxesSubplot at 0x7f16848b1f10>"
            ]
          },
          "metadata": {},
          "execution_count": 49
        },
        {
          "output_type": "display_data",
          "data": {
            "text/plain": [
              "<Figure size 720x432 with 1 Axes>"
            ],
            "image/png": "[encoded data removed]"
          },
          "metadata": {}
        }
      ],
      "source": [
        "sns.scatterplot(x = 'Actual', y = 'Pred', data = compare)"
      ]
    },
    {
      "cell_type": "code",
      "execution_count": 50,
      "metadata": {
        "id": "chyaNUtk-4_k"
      },
      "outputs": [],
      "source": [
        "def eval_metric(actual, pred):\n",
        "    mae = mean_absolute_error(actual, pred)\n",
        "    mse = mean_squared_error(actual, pred)\n",
        "    rmse = np.sqrt(mean_squared_error(actual, pred))\n",
        "    score = r2_score(actual, pred)\n",
        "    return print(\"r2_score:\", score, \"\\nmae:\", mae, \"\\nmse:\", mse, \"\\nrmse:\", rmse)"
      ]
    },
    {
      "cell_type": "code",
      "execution_count": 51,
      "metadata": {
        "id": "e7wR1g2E-4_k",
        "outputId": "6e53cfbf-c1eb-47f1-cbcd-2bb0e6bc9d9d",
        "colab": {
          "base_uri": "https://localhost:8080/"
        }
      },
      "outputs": [
        {
          "output_type": "stream",
          "name": "stdout",
          "text": [
            "r2_score: 0.9847904656610355 \n",
            "mae: 9.300237945722431 \n",
            "mse: 133.72270752435787 \n",
            "rmse: 11.563853489402133\n"
          ]
        }
      ],
      "source": [
        "eval_metric(y_test, y_pred)"
      ]
    },
    {
      "cell_type": "markdown",
      "metadata": {
        "id": "dNws9G3w-4_m"
      },
      "source": [
        "## Final Model and Model Deployment"
      ]
    },
    {
      "cell_type": "markdown",
      "metadata": {
        "id": "w3tISqzo-4_m"
      },
      "source": [
        "### Final Model Training"
      ]
    },
    {
      "cell_type": "code",
      "execution_count": 52,
      "metadata": {
        "id": "0aPYM0Rd-4_o"
      },
      "outputs": [],
      "source": [
        "scaler = MinMaxScaler().fit(X)"
      ]
    },
    {
      "cell_type": "code",
      "execution_count": 53,
      "metadata": {
        "id": "T8iGm4_S-4_p"
      },
      "outputs": [],
      "source": [
        "import pickle\n",
        "pickle.dump(scaler, open(\"scaler_fake_reg\", 'wb'))"
      ]
    },
    {
      "cell_type": "code",
      "execution_count": 54,
      "metadata": {
        "id": "g3w5-oPW-4_q"
      },
      "outputs": [],
      "source": [
        "X_scaled = scaler.transform(X)"
      ]
    },
    {
      "cell_type": "code",
      "execution_count": 55,
      "metadata": {
        "id": "TQVX2TC_-4_q",
        "outputId": "a79b85d5-491c-47e7-c39b-1b9080d4289d",
        "colab": {
          "base_uri": "https://localhost:8080/"
        }
      },
      "outputs": [
        {
          "output_type": "stream",
          "name": "stdout",
          "text": [
            "Epoch 1/250\n",
            "32/32 [==============================] - 1s 1ms/step - loss: 257446.1250\n",
            "Epoch 2/250\n",
            "32/32 [==============================] - 0s 1ms/step - loss: 257352.9375\n",
            "Epoch 3/250\n",
            "32/32 [==============================] - 0s 1ms/step - loss: 257207.0156\n",
            "Epoch 4/250\n",
            "32/32 [==============================] - 0s 1ms/step - loss: 257055.8281\n",
            "Epoch 5/250\n",
            "32/32 [==============================] - 0s 1ms/step - loss: 256882.1406\n",
            "Epoch 6/250\n",
            "32/32 [==============================] - 0s 1ms/step - loss: 256672.5625\n",
            "Epoch 7/250\n",
            "32/32 [==============================] - 0s 1ms/step - loss: 256421.9062\n",
            "Epoch 8/250\n",
            "32/32 [==============================] - 0s 1ms/step - loss: 256130.0312\n",
            "Epoch 9/250\n",
            "32/32 [==============================] - 0s 2ms/step - loss: 255791.2656\n",
            "Epoch 10/250\n",
            "32/32 [==============================] - 0s 1ms/step - loss: 255399.3125\n",
            "Epoch 11/250\n",
            "32/32 [==============================] - 0s 1ms/step - loss: 254945.8281\n",
            "Epoch 12/250\n",
            "32/32 [==============================] - 0s 1ms/step - loss: 254424.9531\n",
            "Epoch 13/250\n",
            "32/32 [==============================] - 0s 1ms/step - loss: 253827.9688\n",
            "Epoch 14/250\n",
            "32/32 [==============================] - 0s 1ms/step - loss: 253153.9531\n",
            "Epoch 15/250\n",
            "32/32 [==============================] - 0s 1ms/step - loss: 252388.0938\n",
            "Epoch 16/250\n",
            "32/32 [==============================] - 0s 1ms/step - loss: 251525.2969\n",
            "Epoch 17/250\n",
            "32/32 [==============================] - 0s 1ms/step - loss: 250567.2812\n",
            "Epoch 18/250\n",
            "32/32 [==============================] - 0s 1ms/step - loss: 249498.5781\n",
            "Epoch 19/250\n",
            "32/32 [==============================] - 0s 1ms/step - loss: 248302.7188\n",
            "Epoch 20/250\n",
            "32/32 [==============================] - 0s 1ms/step - loss: 246989.8281\n",
            "Epoch 21/250\n",
            "32/32 [==============================] - 0s 1ms/step - loss: 245538.9844\n",
            "Epoch 22/250\n",
            "32/32 [==============================] - 0s 1ms/step - loss: 243952.2656\n",
            "Epoch 23/250\n",
            "32/32 [==============================] - 0s 1ms/step - loss: 242217.3125\n",
            "Epoch 24/250\n",
            "32/32 [==============================] - 0s 1ms/step - loss: 240313.1875\n",
            "Epoch 25/250\n",
            "32/32 [==============================] - 0s 1ms/step - loss: 238236.5000\n",
            "Epoch 26/250\n",
            "32/32 [==============================] - 0s 1ms/step - loss: 235999.3750\n",
            "Epoch 27/250\n",
            "32/32 [==============================] - 0s 1ms/step - loss: 233581.6094\n",
            "Epoch 28/250\n",
            "32/32 [==============================] - 0s 1ms/step - loss: 230951.7969\n",
            "Epoch 29/250\n",
            "32/32 [==============================] - 0s 1ms/step - loss: 228143.6250\n",
            "Epoch 30/250\n",
            "32/32 [==============================] - 0s 1ms/step - loss: 225118.6250\n",
            "Epoch 31/250\n",
            "32/32 [==============================] - 0s 1ms/step - loss: 221895.3906\n",
            "Epoch 32/250\n",
            "32/32 [==============================] - 0s 1ms/step - loss: 218462.9688\n",
            "Epoch 33/250\n",
            "32/32 [==============================] - 0s 1ms/step - loss: 214761.7188\n",
            "Epoch 34/250\n",
            "32/32 [==============================] - 0s 1ms/step - loss: 210861.2031\n",
            "Epoch 35/250\n",
            "32/32 [==============================] - 0s 1ms/step - loss: 206742.7344\n",
            "Epoch 36/250\n",
            "32/32 [==============================] - 0s 1ms/step - loss: 202348.7812\n",
            "Epoch 37/250\n",
            "32/32 [==============================] - 0s 1ms/step - loss: 197737.9844\n",
            "Epoch 38/250\n",
            "32/32 [==============================] - 0s 1ms/step - loss: 192855.0625\n",
            "Epoch 39/250\n",
            "32/32 [==============================] - 0s 1ms/step - loss: 187747.8594\n",
            "Epoch 40/250\n",
            "32/32 [==============================] - 0s 1ms/step - loss: 182408.8281\n",
            "Epoch 41/250\n",
            "32/32 [==============================] - 0s 1ms/step - loss: 176797.9531\n",
            "Epoch 42/250\n",
            "32/32 [==============================] - 0s 1ms/step - loss: 170951.8281\n",
            "Epoch 43/250\n",
            "32/32 [==============================] - 0s 1ms/step - loss: 164877.1250\n",
            "Epoch 44/250\n",
            "32/32 [==============================] - 0s 1ms/step - loss: 158597.8594\n",
            "Epoch 45/250\n",
            "32/32 [==============================] - 0s 1ms/step - loss: 152062.2031\n",
            "Epoch 46/250\n",
            "32/32 [==============================] - 0s 1ms/step - loss: 145297.8594\n",
            "Epoch 47/250\n",
            "32/32 [==============================] - 0s 1ms/step - loss: 138378.0312\n",
            "Epoch 48/250\n",
            "32/32 [==============================] - 0s 1ms/step - loss: 131271.5312\n",
            "Epoch 49/250\n",
            "32/32 [==============================] - 0s 1ms/step - loss: 123962.0859\n",
            "Epoch 50/250\n",
            "32/32 [==============================] - 0s 1ms/step - loss: 116556.5938\n",
            "Epoch 51/250\n",
            "32/32 [==============================] - 0s 1ms/step - loss: 109006.8672\n",
            "Epoch 52/250\n",
            "32/32 [==============================] - 0s 1ms/step - loss: 101368.2344\n",
            "Epoch 53/250\n",
            "32/32 [==============================] - 0s 1ms/step - loss: 93677.5234\n",
            "Epoch 54/250\n",
            "32/32 [==============================] - 0s 1ms/step - loss: 85911.0391\n",
            "Epoch 55/250\n",
            "32/32 [==============================] - 0s 1ms/step - loss: 78213.0000\n",
            "Epoch 56/250\n",
            "32/32 [==============================] - 0s 1ms/step - loss: 70514.4297\n",
            "Epoch 57/250\n",
            "32/32 [==============================] - 0s 1ms/step - loss: 62917.5547\n",
            "Epoch 58/250\n",
            "32/32 [==============================] - 0s 1ms/step - loss: 55502.5547\n",
            "Epoch 59/250\n",
            "32/32 [==============================] - 0s 1ms/step - loss: 48244.2812\n",
            "Epoch 60/250\n",
            "32/32 [==============================] - 0s 1ms/step - loss: 41238.1250\n",
            "Epoch 61/250\n",
            "32/32 [==============================] - 0s 1ms/step - loss: 34570.1641\n",
            "Epoch 62/250\n",
            "32/32 [==============================] - 0s 1ms/step - loss: 28343.5820\n",
            "Epoch 63/250\n",
            "32/32 [==============================] - 0s 1ms/step - loss: 22628.5996\n",
            "Epoch 64/250\n",
            "32/32 [==============================] - 0s 1ms/step - loss: 17344.4805\n",
            "Epoch 65/250\n",
            "32/32 [==============================] - 0s 1ms/step - loss: 12726.7002\n",
            "Epoch 66/250\n",
            "32/32 [==============================] - 0s 1ms/step - loss: 8865.0771\n",
            "Epoch 67/250\n",
            "32/32 [==============================] - 0s 1ms/step - loss: 5755.9570\n",
            "Epoch 68/250\n",
            "32/32 [==============================] - 0s 1ms/step - loss: 3594.1709\n",
            "Epoch 69/250\n",
            "32/32 [==============================] - 0s 1ms/step - loss: 2313.1897\n",
            "Epoch 70/250\n",
            "32/32 [==============================] - 0s 2ms/step - loss: 1815.3070\n",
            "Epoch 71/250\n",
            "32/32 [==============================] - 0s 1ms/step - loss: 1724.5623\n",
            "Epoch 72/250\n",
            "32/32 [==============================] - 0s 1ms/step - loss: 1683.3007\n",
            "Epoch 73/250\n",
            "32/32 [==============================] - 0s 1ms/step - loss: 1645.0518\n",
            "Epoch 74/250\n",
            "32/32 [==============================] - 0s 1ms/step - loss: 1603.7667\n",
            "Epoch 75/250\n",
            "32/32 [==============================] - 0s 2ms/step - loss: 1566.7214\n",
            "Epoch 76/250\n",
            "32/32 [==============================] - 0s 1ms/step - loss: 1533.5250\n",
            "Epoch 77/250\n",
            "32/32 [==============================] - 0s 1ms/step - loss: 1500.8669\n",
            "Epoch 78/250\n",
            "32/32 [==============================] - 0s 1ms/step - loss: 1465.5367\n",
            "Epoch 79/250\n",
            "32/32 [==============================] - 0s 1ms/step - loss: 1431.6969\n",
            "Epoch 80/250\n",
            "32/32 [==============================] - 0s 1ms/step - loss: 1395.9796\n",
            "Epoch 81/250\n",
            "32/32 [==============================] - 0s 1ms/step - loss: 1356.0502\n",
            "Epoch 82/250\n",
            "32/32 [==============================] - 0s 1ms/step - loss: 1318.2214\n",
            "Epoch 83/250\n",
            "32/32 [==============================] - 0s 1ms/step - loss: 1281.0029\n",
            "Epoch 84/250\n",
            "32/32 [==============================] - 0s 1ms/step - loss: 1242.6741\n",
            "Epoch 85/250\n",
            "32/32 [==============================] - 0s 1ms/step - loss: 1205.5281\n",
            "Epoch 86/250\n",
            "32/32 [==============================] - 0s 1ms/step - loss: 1172.2192\n",
            "Epoch 87/250\n",
            "32/32 [==============================] - 0s 2ms/step - loss: 1140.4312\n",
            "Epoch 88/250\n",
            "32/32 [==============================] - 0s 1ms/step - loss: 1103.3339\n",
            "Epoch 89/250\n",
            "32/32 [==============================] - 0s 1ms/step - loss: 1075.0262\n",
            "Epoch 90/250\n",
            "32/32 [==============================] - 0s 1ms/step - loss: 1042.2609\n",
            "Epoch 91/250\n",
            "32/32 [==============================] - 0s 1ms/step - loss: 1009.2526\n",
            "Epoch 92/250\n",
            "32/32 [==============================] - 0s 1ms/step - loss: 979.6399\n",
            "Epoch 93/250\n",
            "32/32 [==============================] - 0s 1ms/step - loss: 945.8076\n",
            "Epoch 94/250\n",
            "32/32 [==============================] - 0s 1ms/step - loss: 911.3959\n",
            "Epoch 95/250\n",
            "32/32 [==============================] - 0s 1ms/step - loss: 879.8912\n",
            "Epoch 96/250\n",
            "32/32 [==============================] - 0s 1ms/step - loss: 849.9312\n",
            "Epoch 97/250\n",
            "32/32 [==============================] - 0s 1ms/step - loss: 818.3987\n",
            "Epoch 98/250\n",
            "32/32 [==============================] - 0s 1ms/step - loss: 789.5651\n",
            "Epoch 99/250\n",
            "32/32 [==============================] - 0s 1ms/step - loss: 762.4914\n",
            "Epoch 100/250\n",
            "32/32 [==============================] - 0s 1ms/step - loss: 731.1918\n",
            "Epoch 101/250\n",
            "32/32 [==============================] - 0s 1ms/step - loss: 703.7478\n",
            "Epoch 102/250\n",
            "32/32 [==============================] - 0s 1ms/step - loss: 676.1995\n",
            "Epoch 103/250\n",
            "32/32 [==============================] - 0s 2ms/step - loss: 650.3035\n",
            "Epoch 104/250\n",
            "32/32 [==============================] - 0s 1ms/step - loss: 626.7430\n",
            "Epoch 105/250\n",
            "32/32 [==============================] - 0s 1ms/step - loss: 600.3499\n",
            "Epoch 106/250\n",
            "32/32 [==============================] - 0s 1ms/step - loss: 577.2326\n",
            "Epoch 107/250\n",
            "32/32 [==============================] - 0s 1ms/step - loss: 551.9024\n",
            "Epoch 108/250\n",
            "32/32 [==============================] - 0s 1ms/step - loss: 525.5308\n",
            "Epoch 109/250\n",
            "32/32 [==============================] - 0s 1ms/step - loss: 503.8051\n",
            "Epoch 110/250\n",
            "32/32 [==============================] - 0s 1ms/step - loss: 476.6438\n",
            "Epoch 111/250\n",
            "32/32 [==============================] - 0s 1ms/step - loss: 457.1171\n",
            "Epoch 112/250\n",
            "32/32 [==============================] - 0s 1ms/step - loss: 433.5428\n",
            "Epoch 113/250\n",
            "32/32 [==============================] - 0s 1ms/step - loss: 411.6781\n",
            "Epoch 114/250\n",
            "32/32 [==============================] - 0s 1ms/step - loss: 391.6778\n",
            "Epoch 115/250\n",
            "32/32 [==============================] - 0s 1ms/step - loss: 367.9666\n",
            "Epoch 116/250\n",
            "32/32 [==============================] - 0s 1ms/step - loss: 346.2463\n",
            "Epoch 117/250\n",
            "32/32 [==============================] - 0s 1ms/step - loss: 325.8132\n",
            "Epoch 118/250\n",
            "32/32 [==============================] - 0s 1ms/step - loss: 308.5681\n",
            "Epoch 119/250\n",
            "32/32 [==============================] - 0s 1ms/step - loss: 289.1997\n",
            "Epoch 120/250\n",
            "32/32 [==============================] - 0s 2ms/step - loss: 271.5202\n",
            "Epoch 121/250\n",
            "32/32 [==============================] - 0s 1ms/step - loss: 253.8786\n",
            "Epoch 122/250\n",
            "32/32 [==============================] - 0s 1ms/step - loss: 236.8353\n",
            "Epoch 123/250\n",
            "32/32 [==============================] - 0s 1ms/step - loss: 219.4460\n",
            "Epoch 124/250\n",
            "32/32 [==============================] - 0s 1ms/step - loss: 207.5162\n",
            "Epoch 125/250\n",
            "32/32 [==============================] - 0s 1ms/step - loss: 193.1834\n",
            "Epoch 126/250\n",
            "32/32 [==============================] - 0s 1ms/step - loss: 180.1152\n",
            "Epoch 127/250\n",
            "32/32 [==============================] - 0s 1ms/step - loss: 168.5048\n",
            "Epoch 128/250\n",
            "32/32 [==============================] - 0s 1ms/step - loss: 155.1932\n",
            "Epoch 129/250\n",
            "32/32 [==============================] - 0s 1ms/step - loss: 143.0206\n",
            "Epoch 130/250\n",
            "32/32 [==============================] - 0s 1ms/step - loss: 132.2090\n",
            "Epoch 131/250\n",
            "32/32 [==============================] - 0s 1ms/step - loss: 121.8581\n",
            "Epoch 132/250\n",
            "32/32 [==============================] - 0s 1ms/step - loss: 112.1015\n",
            "Epoch 133/250\n",
            "32/32 [==============================] - 0s 1ms/step - loss: 103.2690\n",
            "Epoch 134/250\n",
            "32/32 [==============================] - 0s 1ms/step - loss: 94.3804\n",
            "Epoch 135/250\n",
            "32/32 [==============================] - 0s 1ms/step - loss: 85.7232\n",
            "Epoch 136/250\n",
            "32/32 [==============================] - 0s 1ms/step - loss: 78.5652\n",
            "Epoch 137/250\n",
            "32/32 [==============================] - 0s 1ms/step - loss: 72.7066\n",
            "Epoch 138/250\n",
            "32/32 [==============================] - 0s 1ms/step - loss: 67.1160\n",
            "Epoch 139/250\n",
            "32/32 [==============================] - 0s 1ms/step - loss: 61.5445\n",
            "Epoch 140/250\n",
            "32/32 [==============================] - 0s 1ms/step - loss: 56.6426\n",
            "Epoch 141/250\n",
            "32/32 [==============================] - 0s 1ms/step - loss: 51.8244\n",
            "Epoch 142/250\n",
            "32/32 [==============================] - 0s 1ms/step - loss: 47.7421\n",
            "Epoch 143/250\n",
            "32/32 [==============================] - 0s 2ms/step - loss: 43.8925\n",
            "Epoch 144/250\n",
            "32/32 [==============================] - 0s 1ms/step - loss: 40.6772\n",
            "Epoch 145/250\n",
            "32/32 [==============================] - 0s 1ms/step - loss: 38.1448\n",
            "Epoch 146/250\n",
            "32/32 [==============================] - 0s 1ms/step - loss: 35.8740\n",
            "Epoch 147/250\n",
            "32/32 [==============================] - 0s 1ms/step - loss: 33.5161\n",
            "Epoch 148/250\n",
            "32/32 [==============================] - 0s 1ms/step - loss: 31.8587\n",
            "Epoch 149/250\n",
            "32/32 [==============================] - 0s 1ms/step - loss: 30.5180\n",
            "Epoch 150/250\n",
            "32/32 [==============================] - 0s 1ms/step - loss: 28.9084\n",
            "Epoch 151/250\n",
            "32/32 [==============================] - 0s 2ms/step - loss: 28.1185\n",
            "Epoch 152/250\n",
            "32/32 [==============================] - 0s 1ms/step - loss: 27.2369\n",
            "Epoch 153/250\n",
            "32/32 [==============================] - 0s 1ms/step - loss: 27.1833\n",
            "Epoch 154/250\n",
            "32/32 [==============================] - 0s 2ms/step - loss: 26.4714\n",
            "Epoch 155/250\n",
            "32/32 [==============================] - 0s 1ms/step - loss: 26.1382\n",
            "Epoch 156/250\n",
            "32/32 [==============================] - 0s 1ms/step - loss: 25.7345\n",
            "Epoch 157/250\n",
            "32/32 [==============================] - 0s 1ms/step - loss: 25.6102\n",
            "Epoch 158/250\n",
            "32/32 [==============================] - 0s 1ms/step - loss: 25.4019\n",
            "Epoch 159/250\n",
            "32/32 [==============================] - 0s 1ms/step - loss: 25.2279\n",
            "Epoch 160/250\n",
            "32/32 [==============================] - 0s 1ms/step - loss: 24.8618\n",
            "Epoch 161/250\n",
            "32/32 [==============================] - 0s 1ms/step - loss: 25.0140\n",
            "Epoch 162/250\n",
            "32/32 [==============================] - 0s 1ms/step - loss: 24.6606\n",
            "Epoch 163/250\n",
            "32/32 [==============================] - 0s 1ms/step - loss: 24.6025\n",
            "Epoch 164/250\n",
            "32/32 [==============================] - 0s 1ms/step - loss: 24.9022\n",
            "Epoch 165/250\n",
            "32/32 [==============================] - 0s 1ms/step - loss: 24.7723\n",
            "Epoch 166/250\n",
            "32/32 [==============================] - 0s 1ms/step - loss: 24.6349\n",
            "Epoch 167/250\n",
            "32/32 [==============================] - 0s 1ms/step - loss: 24.6174\n",
            "Epoch 168/250\n",
            "32/32 [==============================] - 0s 1ms/step - loss: 24.8783\n",
            "Epoch 169/250\n",
            "32/32 [==============================] - 0s 1ms/step - loss: 24.7185\n",
            "Epoch 170/250\n",
            "32/32 [==============================] - 0s 1ms/step - loss: 24.8201\n",
            "Epoch 171/250\n",
            "32/32 [==============================] - 0s 1ms/step - loss: 24.5632\n",
            "Epoch 172/250\n",
            "32/32 [==============================] - 0s 1ms/step - loss: 24.6709\n",
            "Epoch 173/250\n",
            "32/32 [==============================] - 0s 1ms/step - loss: 24.3658\n",
            "Epoch 174/250\n",
            "32/32 [==============================] - 0s 1ms/step - loss: 24.4173\n",
            "Epoch 175/250\n",
            "32/32 [==============================] - 0s 1ms/step - loss: 24.6581\n",
            "Epoch 176/250\n",
            "32/32 [==============================] - 0s 1ms/step - loss: 24.5981\n",
            "Epoch 177/250\n",
            "32/32 [==============================] - 0s 1ms/step - loss: 24.7969\n",
            "Epoch 178/250\n",
            "32/32 [==============================] - 0s 1ms/step - loss: 24.8084\n",
            "Epoch 179/250\n",
            "32/32 [==============================] - 0s 1ms/step - loss: 24.6876\n",
            "Epoch 180/250\n",
            "32/32 [==============================] - 0s 1ms/step - loss: 24.5573\n",
            "Epoch 181/250\n",
            "32/32 [==============================] - 0s 1ms/step - loss: 24.5877\n",
            "Epoch 182/250\n",
            "32/32 [==============================] - 0s 1ms/step - loss: 24.4378\n",
            "Epoch 183/250\n",
            "32/32 [==============================] - 0s 1ms/step - loss: 24.5475\n",
            "Epoch 184/250\n",
            "32/32 [==============================] - 0s 1ms/step - loss: 24.6437\n",
            "Epoch 185/250\n",
            "32/32 [==============================] - 0s 1ms/step - loss: 24.3239\n",
            "Epoch 186/250\n",
            "32/32 [==============================] - 0s 1ms/step - loss: 24.6706\n",
            "Epoch 187/250\n",
            "32/32 [==============================] - 0s 1ms/step - loss: 24.3700\n",
            "Epoch 188/250\n",
            "32/32 [==============================] - 0s 1ms/step - loss: 24.6600\n",
            "Epoch 189/250\n",
            "32/32 [==============================] - 0s 1ms/step - loss: 24.4187\n",
            "Epoch 190/250\n",
            "32/32 [==============================] - 0s 1ms/step - loss: 24.5458\n",
            "Epoch 191/250\n",
            "32/32 [==============================] - 0s 1ms/step - loss: 24.5048\n",
            "Epoch 192/250\n",
            "32/32 [==============================] - 0s 1ms/step - loss: 24.5923\n",
            "Epoch 193/250\n",
            "32/32 [==============================] - 0s 1ms/step - loss: 24.2760\n",
            "Epoch 194/250\n",
            "32/32 [==============================] - 0s 1ms/step - loss: 24.5483\n",
            "Epoch 195/250\n",
            "32/32 [==============================] - 0s 1ms/step - loss: 24.6589\n",
            "Epoch 196/250\n",
            "32/32 [==============================] - 0s 1ms/step - loss: 24.2963\n",
            "Epoch 197/250\n",
            "32/32 [==============================] - 0s 1ms/step - loss: 24.4542\n",
            "Epoch 198/250\n",
            "32/32 [==============================] - 0s 1ms/step - loss: 24.5278\n",
            "Epoch 199/250\n",
            "32/32 [==============================] - 0s 1ms/step - loss: 25.1818\n",
            "Epoch 200/250\n",
            "32/32 [==============================] - 0s 1ms/step - loss: 24.2732\n",
            "Epoch 201/250\n",
            "32/32 [==============================] - 0s 1ms/step - loss: 24.6564\n",
            "Epoch 202/250\n",
            "32/32 [==============================] - 0s 1ms/step - loss: 24.6048\n",
            "Epoch 203/250\n",
            "32/32 [==============================] - 0s 1ms/step - loss: 24.6135\n",
            "Epoch 204/250\n",
            "32/32 [==============================] - 0s 2ms/step - loss: 24.6792\n",
            "Epoch 205/250\n",
            "32/32 [==============================] - 0s 1ms/step - loss: 24.7514\n",
            "Epoch 206/250\n",
            "32/32 [==============================] - 0s 1ms/step - loss: 24.4252\n",
            "Epoch 207/250\n",
            "32/32 [==============================] - 0s 1ms/step - loss: 24.4510\n",
            "Epoch 208/250\n",
            "32/32 [==============================] - 0s 1ms/step - loss: 24.8087\n",
            "Epoch 209/250\n",
            "32/32 [==============================] - 0s 1ms/step - loss: 24.5436\n",
            "Epoch 210/250\n",
            "32/32 [==============================] - 0s 1ms/step - loss: 24.6828\n",
            "Epoch 211/250\n",
            "32/32 [==============================] - 0s 1ms/step - loss: 24.4319\n",
            "Epoch 212/250\n",
            "32/32 [==============================] - 0s 1ms/step - loss: 24.5439\n",
            "Epoch 213/250\n",
            "32/32 [==============================] - 0s 1ms/step - loss: 24.3381\n",
            "Epoch 214/250\n",
            "32/32 [==============================] - 0s 1ms/step - loss: 24.3453\n",
            "Epoch 215/250\n",
            "32/32 [==============================] - 0s 1ms/step - loss: 24.7244\n",
            "Epoch 216/250\n",
            "32/32 [==============================] - 0s 1ms/step - loss: 24.8037\n",
            "Epoch 217/250\n",
            "32/32 [==============================] - 0s 1ms/step - loss: 24.3328\n",
            "Epoch 218/250\n",
            "32/32 [==============================] - 0s 1ms/step - loss: 24.4346\n",
            "Epoch 219/250\n",
            "32/32 [==============================] - 0s 1ms/step - loss: 24.4213\n",
            "Epoch 220/250\n",
            "32/32 [==============================] - 0s 1ms/step - loss: 24.3429\n",
            "Epoch 221/250\n",
            "32/32 [==============================] - 0s 1ms/step - loss: 24.5969\n",
            "Epoch 222/250\n",
            "32/32 [==============================] - 0s 1ms/step - loss: 24.7220\n",
            "Epoch 223/250\n",
            "32/32 [==============================] - 0s 1ms/step - loss: 24.7231\n",
            "Epoch 224/250\n",
            "32/32 [==============================] - 0s 1ms/step - loss: 24.3737\n",
            "Epoch 225/250\n",
            "32/32 [==============================] - 0s 1ms/step - loss: 24.6965\n",
            "Epoch 226/250\n",
            "32/32 [==============================] - 0s 1ms/step - loss: 24.7458\n",
            "Epoch 227/250\n",
            "32/32 [==============================] - 0s 1ms/step - loss: 24.5217\n",
            "Epoch 228/250\n",
            "32/32 [==============================] - 0s 1ms/step - loss: 24.5282\n",
            "Epoch 229/250\n",
            "32/32 [==============================] - 0s 1ms/step - loss: 24.7036\n",
            "Epoch 230/250\n",
            "32/32 [==============================] - 0s 1ms/step - loss: 24.4986\n",
            "Epoch 231/250\n",
            "32/32 [==============================] - 0s 1ms/step - loss: 24.4191\n",
            "Epoch 232/250\n",
            "32/32 [==============================] - 0s 1ms/step - loss: 24.5529\n",
            "Epoch 233/250\n",
            "32/32 [==============================] - 0s 1ms/step - loss: 24.6200\n",
            "Epoch 234/250\n",
            "32/32 [==============================] - 0s 1ms/step - loss: 24.5143\n",
            "Epoch 235/250\n",
            "32/32 [==============================] - 0s 1ms/step - loss: 24.5460\n",
            "Epoch 236/250\n",
            "32/32 [==============================] - 0s 1ms/step - loss: 24.3248\n",
            "Epoch 237/250\n",
            "32/32 [==============================] - 0s 1ms/step - loss: 24.5465\n",
            "Epoch 238/250\n",
            "32/32 [==============================] - 0s 1ms/step - loss: 24.7123\n",
            "Epoch 239/250\n",
            "32/32 [==============================] - 0s 1ms/step - loss: 24.7308\n",
            "Epoch 240/250\n",
            "32/32 [==============================] - 0s 1ms/step - loss: 24.4423\n",
            "Epoch 241/250\n",
            "32/32 [==============================] - 0s 1ms/step - loss: 24.4011\n",
            "Epoch 242/250\n",
            "32/32 [==============================] - 0s 1ms/step - loss: 24.4408\n",
            "Epoch 243/250\n",
            "32/32 [==============================] - 0s 1ms/step - loss: 24.4841\n",
            "Epoch 244/250\n",
            "32/32 [==============================] - 0s 1ms/step - loss: 24.8532\n",
            "Epoch 245/250\n",
            "32/32 [==============================] - 0s 1ms/step - loss: 24.6641\n",
            "Epoch 246/250\n",
            "32/32 [==============================] - 0s 1ms/step - loss: 24.5451\n",
            "Epoch 247/250\n",
            "32/32 [==============================] - 0s 1ms/step - loss: 24.5891\n",
            "Epoch 248/250\n",
            "32/32 [==============================] - 0s 1ms/step - loss: 24.4660\n",
            "Epoch 249/250\n",
            "32/32 [==============================] - 0s 1ms/step - loss: 24.5307\n",
            "Epoch 250/250\n",
            "32/32 [==============================] - 0s 1ms/step - loss: 24.7633\n"
          ]
        },
        {
          "output_type": "execute_result",
          "data": {
            "text/plain": [
              "<keras.callbacks.History at 0x7f1681eca8d0>"
            ]
          },
          "metadata": {},
          "execution_count": 55
        }
      ],
      "source": [
        "final_model = Sequential()\n",
        "\n",
        "final_model.add(Dense(units = 4, activation = \"relu\"))     # input_dim = 2 or input_dim = X_train.shape[1]\n",
        "final_model.add(Dense(units = 4, activation = \"relu\"))\n",
        "final_model.add(Dense(units = 4, activation = \"relu\"))\n",
        "final_model.add(Dense(1))\n",
        "\n",
        "final_model.compile(optimizer = \"rmsprop\", loss = \"mse\")\n",
        "\n",
        "final_model.fit(x = X_scaled, y = y, batch_size = 32, epochs = 250)  # bütün data üzeirnde eğitime sokarım"
      ]
    },
    {
      "cell_type": "markdown",
      "metadata": {
        "id": "RjtOiQsy-4_r"
      },
      "source": [
        "### Saving a Model"
      ]
    },
    {
      "cell_type": "markdown",
      "metadata": {
        "id": "LO7rGtUP-4_s"
      },
      "source": [
        "You can save a TensorFlow/Keras model using [`model.save()`](https://www.tensorflow.org/tutorials/keras/save_and_load#save_the_entire_model).\n",
        "\n",
        "Keras saves models by inspecting their architectures. This technique saves everything:\n",
        "\n",
        "- The weight values\n",
        "- The model's architecture\n",
        "- The model's training configuration (what you pass to the .compile() method)\n",
        "- The optimizer and its state, if any (this enables you to restart training where you left off)\n",
        "\n",
        "There are two ways to save a model in TensorFlow:\n",
        "1. The [SavedModel format](https://www.tensorflow.org/tutorials/keras/save_and_load#savedmodel_format) (default).\n",
        "2. The [HDF5 format](https://www.tensorflow.org/tutorials/keras/save_and_load#hdf5_format).\n",
        "\n",
        "The main difference between the two is the SavedModel is automatically able to save custom objects (such as special layers) without additional modifications when loading the model back in.\n",
        "\n",
        "The key difference between HDF5 and SavedModel is that HDF5 uses object configs to save the model architecture, while SavedModel saves the execution graph. Thus, SavedModels are able to save custom objects like subclassed models and custom layers without requiring the original code."
      ]
    },
    {
      "cell_type": "code",
      "execution_count": 56,
      "metadata": {
        "id": "3GRwoXBv-4_s"
      },
      "outputs": [],
      "source": [
        "final_model.save('model_fake_reg.h5')  # creates a HDF5 file 'my_model.h5'"
      ]
    },
    {
      "cell_type": "code",
      "execution_count": 57,
      "metadata": {
        "id": "XouFC621-4_s"
      },
      "outputs": [],
      "source": [
        "#final_model.save(\"model_fake_reg\") "
      ]
    },
    {
      "cell_type": "markdown",
      "metadata": {
        "id": "i2v0CgW7-4_t"
      },
      "source": [
        "### Loading Model"
      ]
    },
    {
      "cell_type": "code",
      "execution_count": 58,
      "metadata": {
        "id": "lLexnY9J-4_t"
      },
      "outputs": [],
      "source": [
        "from tensorflow.keras.models import load_model"
      ]
    },
    {
      "cell_type": "code",
      "execution_count": 59,
      "metadata": {
        "id": "gnCx2hYN-4_t"
      },
      "outputs": [],
      "source": [
        "model_fake_reg = load_model('model_fake_reg.h5')"
      ]
    },
    {
      "cell_type": "code",
      "execution_count": 60,
      "metadata": {
        "id": "ST_IX4uY-4_u"
      },
      "outputs": [],
      "source": [
        "scaler_fake_reg = pickle.load(open(\"scaler_fake_reg\", \"rb\"))"
      ]
    },
    {
      "cell_type": "markdown",
      "metadata": {
        "id": "xs76bZK2-4_u"
      },
      "source": [
        "## Prediction-1"
      ]
    },
    {
      "cell_type": "code",
      "execution_count": 61,
      "metadata": {
        "id": "scsmUaLZ-4_u"
      },
      "outputs": [],
      "source": [
        "sample = [[998, 1000]]  # tek örnek olsa bile df olarak vermemiz gerekir."
      ]
    },
    {
      "cell_type": "code",
      "execution_count": 62,
      "metadata": {
        "id": "699R2hv--4_v"
      },
      "outputs": [],
      "source": [
        "sample_scaled = scaler_fake_reg.transform(sample)  # transform ederiz"
      ]
    },
    {
      "cell_type": "code",
      "execution_count": 63,
      "metadata": {
        "id": "Lnq3Myio-4_v",
        "outputId": "80b43dbd-4985-4f3a-ee86-03c29e577980",
        "colab": {
          "base_uri": "https://localhost:8080/"
        }
      },
      "outputs": [
        {
          "output_type": "execute_result",
          "data": {
            "text/plain": [
              "array([[419.05695]], dtype=float32)"
            ]
          },
          "metadata": {},
          "execution_count": 63
        }
      ],
      "source": [
        "model_fake_reg.predict(sample_scaled)  # predict alıyoruz"
      ]
    },
    {
      "cell_type": "markdown",
      "metadata": {
        "id": "nQQDQ-_S-4_w"
      },
      "source": [
        "## Prediction-2"
      ]
    },
    {
      "cell_type": "code",
      "execution_count": 64,
      "metadata": {
        "id": "TJvu91xY-4_w"
      },
      "outputs": [],
      "source": [
        "my_dict = {\"Feature1\": [997, 998, 999, 1000, 1001],\n",
        "           \"Feature2\": [1000, 999, 998, 997, 996]}"
      ]
    },
    {
      "cell_type": "code",
      "execution_count": 65,
      "metadata": {
        "id": "QoBjJchY-4_w",
        "outputId": "973c6c9a-dd99-48dd-a583-8c2b91036c9c",
        "colab": {
          "base_uri": "https://localhost:8080/",
          "height": 206
        }
      },
      "outputs": [
        {
          "output_type": "execute_result",
          "data": {
            "text/plain": [
              "   Feature1  Feature2\n",
              "0       997      1000\n",
              "1       998       999\n",
              "2       999       998\n",
              "3      1000       997\n",
              "4      1001       996"
            ],
            "text/html": [
              "\n",
              "  <div id=\"df-27e2a74e-3fcd-4713-8bb0-db8653eefcc6\">\n",
              "    <div class=\"colab-df-container\">\n",
              "      <div>\n",
              "<style scoped>\n",
              "    .dataframe tbody tr th:only-of-type {\n",
              "        vertical-align: middle;\n",
              "    }\n",
              "\n",
              "    .dataframe tbody tr th {\n",
              "        vertical-align: top;\n",
              "    }\n",
              "\n",
              "    .dataframe thead th {\n",
              "        text-align: right;\n",
              "    }\n",
              "</style>\n",
              "<table border=\"1\" class=\"dataframe\">\n",
              "  <thead>\n",
              "    <tr style=\"text-align: right;\">\n",
              "      <th></th>\n",
              "      <th>Feature1</th>\n",
              "      <th>Feature2</th>\n",
              "    </tr>\n",
              "  </thead>\n",
              "  <tbody>\n",
              "    <tr>\n",
              "      <th>0</th>\n",
              "      <td>997</td>\n",
              "      <td>1000</td>\n",
              "    </tr>\n",
              "    <tr>\n",
              "      <th>1</th>\n",
              "      <td>998</td>\n",
              "      <td>999</td>\n",
              "    </tr>\n",
              "    <tr>\n",
              "      <th>2</th>\n",
              "      <td>999</td>\n",
              "      <td>998</td>\n",
              "    </tr>\n",
              "    <tr>\n",
              "      <th>3</th>\n",
              "      <td>1000</td>\n",
              "      <td>997</td>\n",
              "    </tr>\n",
              "    <tr>\n",
              "      <th>4</th>\n",
              "      <td>1001</td>\n",
              "      <td>996</td>\n",
              "    </tr>\n",
              "  </tbody>\n",
              "</table>\n",
              "</div>\n",
              "      <button class=\"colab-df-convert\" onclick=\"convertToInteractive('df-27e2a74e-3fcd-4713-8bb0-db8653eefcc6')\"\n",
              "              title=\"Convert this dataframe to an interactive table.\"\n",
              "              style=\"display:none;\">\n",
              "        \n",
              "  <svg xmlns=\"http://www.w3.org/2000/svg\" height=\"24px\"viewBox=\"0 0 24 24\"\n",
              "       width=\"24px\">\n",
              "    <path d=\"M0 0h24v24H0V0z\" fill=\"none\"/>\n",
              "    <path d=\"M18.56 5.44l.94 2.06.94-2.06 2.06-.94-2.06-.94-.94-2.06-.94 2.06-2.06.94zm-11 1L8.5 8.5l.94-2.06 2.06-.94-2.06-.94L8.5 2.5l-.94 2.06-2.06.94zm10 10l.94 2.06.94-2.06 2.06-.94-2.06-.94-.94-2.06-.94 2.06-2.06.94z\"/><path d=\"M17.41 7.96l-1.37-1.37c-.4-.4-.92-.59-1.43-.59-.52 0-1.04.2-1.43.59L10.3 9.45l-7.72 7.72c-.78.78-.78 2.05 0 2.83L4 21.41c.39.39.9.59 1.41.59.51 0 1.02-.2 1.41-.59l7.78-7.78 2.81-2.81c.8-.78.8-2.07 0-2.86zM5.41 20L4 18.59l7.72-7.72 1.47 1.35L5.41 20z\"/>\n",
              "  </svg>\n",
              "      </button>\n",
              "      \n",
              "  <style>\n",
              "    .colab-df-container {\n",
              "      display:flex;\n",
              "      flex-wrap:wrap;\n",
              "      gap: 12px;\n",
              "    }\n",
              "\n",
              "    .colab-df-convert {\n",
              "      background-color: #E8F0FE;\n",
              "      border: none;\n",
              "      border-radius: 50%;\n",
              "      cursor: pointer;\n",
              "      display: none;\n",
              "      fill: #1967D2;\n",
              "      height: 32px;\n",
              "      padding: 0 0 0 0;\n",
              "      width: 32px;\n",
              "    }\n",
              "\n",
              "    .colab-df-convert:hover {\n",
              "      background-color: #E2EBFA;\n",
              "      box-shadow: 0px 1px 2px rgba(60, 64, 67, 0.3), 0px 1px 3px 1px rgba(60, 64, 67, 0.15);\n",
              "      fill: #174EA6;\n",
              "    }\n",
              "\n",
              "    [theme=dark] .colab-df-convert {\n",
              "      background-color: #3B4455;\n",
              "      fill: #D2E3FC;\n",
              "    }\n",
              "\n",
              "    [theme=dark] .colab-df-convert:hover {\n",
              "      background-color: #434B5C;\n",
              "      box-shadow: 0px 1px 3px 1px rgba(0, 0, 0, 0.15);\n",
              "      filter: drop-shadow(0px 1px 2px rgba(0, 0, 0, 0.3));\n",
              "      fill: #FFFFFF;\n",
              "    }\n",
              "  </style>\n",
              "\n",
              "      <script>\n",
              "        const buttonEl =\n",
              "          document.querySelector('#df-27e2a74e-3fcd-4713-8bb0-db8653eefcc6 button.colab-df-convert');\n",
              "        buttonEl.style.display =\n",
              "          google.colab.kernel.accessAllowed ? 'block' : 'none';\n",
              "\n",
              "        async function convertToInteractive(key) {\n",
              "          const element = document.querySelector('#df-27e2a74e-3fcd-4713-8bb0-db8653eefcc6');\n",
              "          const dataTable =\n",
              "            await google.colab.kernel.invokeFunction('convertToInteractive',\n",
              "                                                     [key], {});\n",
              "          if (!dataTable) return;\n",
              "\n",
              "          const docLinkHtml = 'Like what you see? Visit the ' +\n",
              "            '<a target=\"_blank\" href=https://colab.research.google.com/notebooks/data_table.ipynb>data table notebook</a>'\n",
              "            + ' to learn more about interactive tables.';\n",
              "          element.innerHTML = '';\n",
              "          dataTable['output_type'] = 'display_data';\n",
              "          await google.colab.output.renderOutput(dataTable, element);\n",
              "          const docLink = document.createElement('div');\n",
              "          docLink.innerHTML = docLinkHtml;\n",
              "          element.appendChild(docLink);\n",
              "        }\n",
              "      </script>\n",
              "    </div>\n",
              "  </div>\n",
              "  "
            ]
          },
          "metadata": {},
          "execution_count": 65
        }
      ],
      "source": [
        "sample = pd.DataFrame(my_dict)\n",
        "sample"
      ]
    },
    {
      "cell_type": "code",
      "execution_count": 66,
      "metadata": {
        "id": "gr-fx_KM-4_x",
        "outputId": "27001d0b-dcd2-43d0-d385-ea5aa9da201a",
        "colab": {
          "base_uri": "https://localhost:8080/"
        }
      },
      "outputs": [
        {
          "output_type": "execute_result",
          "data": {
            "text/plain": [
              "array([[-0.00948799,  0.52980619],\n",
              "       [ 0.15312457,  0.35345977],\n",
              "       [ 0.31573713,  0.17711336],\n",
              "       [ 0.47834969,  0.00076694],\n",
              "       [ 0.64096225, -0.17557948]])"
            ]
          },
          "metadata": {},
          "execution_count": 66
        }
      ],
      "source": [
        "sample_scaled = scaler_fake_reg.transform(sample)\n",
        "sample_scaled"
      ]
    },
    {
      "cell_type": "code",
      "execution_count": 67,
      "metadata": {
        "id": "cXzYYgwb-4_x",
        "outputId": "3af677ac-80c8-47c8-b1b2-0a586c35a953",
        "colab": {
          "base_uri": "https://localhost:8080/"
        }
      },
      "outputs": [
        {
          "output_type": "execute_result",
          "data": {
            "text/plain": [
              "array([[378.99838],\n",
              "       [330.67422],\n",
              "       [282.35007],\n",
              "       [234.02591],\n",
              "       [185.70174]], dtype=float32)"
            ]
          },
          "metadata": {},
          "execution_count": 67
        }
      ],
      "source": [
        "model_fake_reg.predict(sample_scaled)"
      ]
    },
    {
      "cell_type": "markdown",
      "metadata": {
        "id": "YvVTaw95-4_y"
      },
      "source": [
        "___\n",
        "\n",
        "<p style=\"text-align: center;\"><img src=\"https://docs.google.com/uc?id=1lY0Uj5R04yMY3-ZppPWxqCr5pvBLYPnV\" class=\"img-fluid\" alt=\"CLRSWY\"></p>\n",
        "\n",
        "___"
      ]
    }
  ],
  "metadata": {
    "kernelspec": {
      "display_name": "Python 3",
      "language": "python",
      "name": "python3"
    },
    "language_info": {
      "codemirror_mode": {
        "name": "ipython",
        "version": 3
      },
      "file_extension": ".py",
      "mimetype": "text/x-python",
      "name": "python",
      "nbconvert_exporter": "python",
      "pygments_lexer": "ipython3",
      "version": "3.7.6"
    },
    "toc": {
      "base_numbering": 1,
      "nav_menu": {},
      "number_sections": false,
      "sideBar": true,
      "skip_h1_title": false,
      "title_cell": "Table of Contents",
      "title_sidebar": "Contents",
      "toc_cell": false,
      "toc_position": {
        "height": "calc(100% - 180px)",
        "left": "10px",
        "top": "150px",
        "width": "300.099px"
      },
      "toc_section_display": true,
      "toc_window_display": true
    },
    "colab": {
      "name": "DL-S2 (Installing Tensorflow & Keras Syntext Basics-fake reg).ipynb",
      "provenance": [],
      "collapsed_sections": [],
      "include_colab_link": true
    }
  },
  "nbformat": 4,
  "nbformat_minor": 0
}